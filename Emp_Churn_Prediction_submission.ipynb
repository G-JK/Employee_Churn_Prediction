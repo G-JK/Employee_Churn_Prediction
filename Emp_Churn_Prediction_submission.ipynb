{
  "nbformat": 4,
  "nbformat_minor": 0,
  "metadata": {
    "colab": {
      "name": "Emp_Churn_Prediction_submission.ipynb",
      "provenance": [],
      "collapsed_sections": []
    },
    "kernelspec": {
      "name": "python3",
      "display_name": "Python 3"
    },
    "language_info": {
      "name": "python"
    }
  },
  "cells": [
    {
      "cell_type": "code",
      "metadata": {
        "id": "gKqrV67F8Biy"
      },
      "source": [
        ""
      ],
      "execution_count": null,
      "outputs": []
    },
    {
      "cell_type": "markdown",
      "metadata": {
        "id": "HNmYnbFf8DQj"
      },
      "source": [
        "##Importing the libraries"
      ]
    },
    {
      "cell_type": "code",
      "metadata": {
        "id": "ol1-fgSs8eeM"
      },
      "source": [
        "import pandas as pd\n",
        "import numpy as np\n",
        "import matplotlib.pyplot as plt\n",
        "import seaborn as sns\n",
        "sns.set()"
      ],
      "execution_count": null,
      "outputs": []
    },
    {
      "cell_type": "markdown",
      "metadata": {
        "id": "6yc3iPqB8I_J"
      },
      "source": [
        "##Loading the Dataset"
      ]
    },
    {
      "cell_type": "code",
      "metadata": {
        "id": "ok5PxG9H8m2c"
      },
      "source": [
        "train_df =pd.read_csv(\"train_MpHjUjU.csv\")\n",
        "test_df = pd.read_csv(\"test_hXY9mYw.csv\")"
      ],
      "execution_count": null,
      "outputs": []
    },
    {
      "cell_type": "markdown",
      "metadata": {
        "id": "iP683wPv8PXu"
      },
      "source": [
        "##General Inspection"
      ]
    },
    {
      "cell_type": "code",
      "metadata": {
        "colab": {
          "base_uri": "https://localhost:8080/"
        },
        "id": "lfTYmNdMixjw",
        "outputId": "d772c132-19de-4a44-9e3c-09911f8bce73"
      },
      "source": [
        "train_df.shape"
      ],
      "execution_count": null,
      "outputs": [
        {
          "output_type": "execute_result",
          "data": {
            "text/plain": [
              "(19104, 13)"
            ]
          },
          "metadata": {},
          "execution_count": 3
        }
      ]
    },
    {
      "cell_type": "markdown",
      "metadata": {
        "id": "-a49VJdI8W2F"
      },
      "source": [
        "##Creation of Test Data"
      ]
    },
    {
      "cell_type": "code",
      "metadata": {
        "colab": {
          "base_uri": "https://localhost:8080/"
        },
        "id": "pR82uq6a88Ml",
        "outputId": "6386dae9-3159-4110-f533-677380600272"
      },
      "source": [
        "test_data = pd.merge(test_df, train_df, how='left')\n",
        "test_data.shape"
      ],
      "execution_count": null,
      "outputs": [
        {
          "output_type": "execute_result",
          "data": {
            "text/plain": [
              "(8588, 13)"
            ]
          },
          "metadata": {},
          "execution_count": 4
        }
      ]
    },
    {
      "cell_type": "markdown",
      "metadata": {
        "id": "1nuGsRdN8iZS"
      },
      "source": [
        "##Filtering of Train Set"
      ]
    },
    {
      "cell_type": "code",
      "metadata": {
        "colab": {
          "base_uri": "https://localhost:8080/"
        },
        "id": "9lViOjJYh9JL",
        "outputId": "849c5699-fcc3-4e56-bc62-b31b589ade01"
      },
      "source": [
        "train_data = pd.merge(train_df, test_data, indicator=True, how='outer').query('_merge==\"left_only\" ').drop('_merge', axis=1)\n",
        "train_data.shape"
      ],
      "execution_count": null,
      "outputs": [
        {
          "output_type": "execute_result",
          "data": {
            "text/plain": [
              "(10516, 13)"
            ]
          },
          "metadata": {},
          "execution_count": 5
        }
      ]
    },
    {
      "cell_type": "code",
      "metadata": {
        "colab": {
          "base_uri": "https://localhost:8080/",
          "height": 306
        },
        "id": "GOKJ7EoEjF1b",
        "outputId": "bb21ef9a-56ad-4f3a-9cd4-eac025719489"
      },
      "source": [
        "train_data.head()"
      ],
      "execution_count": null,
      "outputs": [
        {
          "output_type": "execute_result",
          "data": {
            "text/html": [
              "<div>\n",
              "<style scoped>\n",
              "    .dataframe tbody tr th:only-of-type {\n",
              "        vertical-align: middle;\n",
              "    }\n",
              "\n",
              "    .dataframe tbody tr th {\n",
              "        vertical-align: top;\n",
              "    }\n",
              "\n",
              "    .dataframe thead th {\n",
              "        text-align: right;\n",
              "    }\n",
              "</style>\n",
              "<table border=\"1\" class=\"dataframe\">\n",
              "  <thead>\n",
              "    <tr style=\"text-align: right;\">\n",
              "      <th></th>\n",
              "      <th>MMM-YY</th>\n",
              "      <th>Emp_ID</th>\n",
              "      <th>Age</th>\n",
              "      <th>Gender</th>\n",
              "      <th>City</th>\n",
              "      <th>Education_Level</th>\n",
              "      <th>Salary</th>\n",
              "      <th>Dateofjoining</th>\n",
              "      <th>LastWorkingDate</th>\n",
              "      <th>Joining Designation</th>\n",
              "      <th>Designation</th>\n",
              "      <th>Total Business Value</th>\n",
              "      <th>Quarterly Rating</th>\n",
              "    </tr>\n",
              "  </thead>\n",
              "  <tbody>\n",
              "    <tr>\n",
              "      <th>0</th>\n",
              "      <td>2016-01-01</td>\n",
              "      <td>1</td>\n",
              "      <td>28</td>\n",
              "      <td>Male</td>\n",
              "      <td>C23</td>\n",
              "      <td>Master</td>\n",
              "      <td>57387</td>\n",
              "      <td>2015-12-24</td>\n",
              "      <td>NaN</td>\n",
              "      <td>1</td>\n",
              "      <td>1</td>\n",
              "      <td>2381060</td>\n",
              "      <td>2</td>\n",
              "    </tr>\n",
              "    <tr>\n",
              "      <th>1</th>\n",
              "      <td>2016-02-01</td>\n",
              "      <td>1</td>\n",
              "      <td>28</td>\n",
              "      <td>Male</td>\n",
              "      <td>C23</td>\n",
              "      <td>Master</td>\n",
              "      <td>57387</td>\n",
              "      <td>2015-12-24</td>\n",
              "      <td>NaN</td>\n",
              "      <td>1</td>\n",
              "      <td>1</td>\n",
              "      <td>-665480</td>\n",
              "      <td>2</td>\n",
              "    </tr>\n",
              "    <tr>\n",
              "      <th>2</th>\n",
              "      <td>2016-03-01</td>\n",
              "      <td>1</td>\n",
              "      <td>28</td>\n",
              "      <td>Male</td>\n",
              "      <td>C23</td>\n",
              "      <td>Master</td>\n",
              "      <td>57387</td>\n",
              "      <td>2015-12-24</td>\n",
              "      <td>2016-03-11</td>\n",
              "      <td>1</td>\n",
              "      <td>1</td>\n",
              "      <td>0</td>\n",
              "      <td>2</td>\n",
              "    </tr>\n",
              "    <tr>\n",
              "      <th>5</th>\n",
              "      <td>2016-12-01</td>\n",
              "      <td>4</td>\n",
              "      <td>43</td>\n",
              "      <td>Male</td>\n",
              "      <td>C13</td>\n",
              "      <td>Master</td>\n",
              "      <td>65603</td>\n",
              "      <td>2016-12-07</td>\n",
              "      <td>NaN</td>\n",
              "      <td>2</td>\n",
              "      <td>2</td>\n",
              "      <td>0</td>\n",
              "      <td>1</td>\n",
              "    </tr>\n",
              "    <tr>\n",
              "      <th>6</th>\n",
              "      <td>2017-01-01</td>\n",
              "      <td>4</td>\n",
              "      <td>43</td>\n",
              "      <td>Male</td>\n",
              "      <td>C13</td>\n",
              "      <td>Master</td>\n",
              "      <td>65603</td>\n",
              "      <td>2016-12-07</td>\n",
              "      <td>NaN</td>\n",
              "      <td>2</td>\n",
              "      <td>2</td>\n",
              "      <td>0</td>\n",
              "      <td>1</td>\n",
              "    </tr>\n",
              "  </tbody>\n",
              "</table>\n",
              "</div>"
            ],
            "text/plain": [
              "       MMM-YY  Emp_ID  Age  ... Designation Total Business Value Quarterly Rating\n",
              "0  2016-01-01       1   28  ...           1              2381060                2\n",
              "1  2016-02-01       1   28  ...           1              -665480                2\n",
              "2  2016-03-01       1   28  ...           1                    0                2\n",
              "5  2016-12-01       4   43  ...           2                    0                1\n",
              "6  2017-01-01       4   43  ...           2                    0                1\n",
              "\n",
              "[5 rows x 13 columns]"
            ]
          },
          "metadata": {},
          "execution_count": 6
        }
      ]
    },
    {
      "cell_type": "code",
      "metadata": {
        "colab": {
          "base_uri": "https://localhost:8080/",
          "height": 306
        },
        "id": "_iCGQzPRIP1V",
        "outputId": "6f6c5253-0917-4f5e-b9c6-b5d8abd8f9f3"
      },
      "source": [
        "test_data.head()"
      ],
      "execution_count": null,
      "outputs": [
        {
          "output_type": "execute_result",
          "data": {
            "text/html": [
              "<div>\n",
              "<style scoped>\n",
              "    .dataframe tbody tr th:only-of-type {\n",
              "        vertical-align: middle;\n",
              "    }\n",
              "\n",
              "    .dataframe tbody tr th {\n",
              "        vertical-align: top;\n",
              "    }\n",
              "\n",
              "    .dataframe thead th {\n",
              "        text-align: right;\n",
              "    }\n",
              "</style>\n",
              "<table border=\"1\" class=\"dataframe\">\n",
              "  <thead>\n",
              "    <tr style=\"text-align: right;\">\n",
              "      <th></th>\n",
              "      <th>Emp_ID</th>\n",
              "      <th>MMM-YY</th>\n",
              "      <th>Age</th>\n",
              "      <th>Gender</th>\n",
              "      <th>City</th>\n",
              "      <th>Education_Level</th>\n",
              "      <th>Salary</th>\n",
              "      <th>Dateofjoining</th>\n",
              "      <th>LastWorkingDate</th>\n",
              "      <th>Joining Designation</th>\n",
              "      <th>Designation</th>\n",
              "      <th>Total Business Value</th>\n",
              "      <th>Quarterly Rating</th>\n",
              "    </tr>\n",
              "  </thead>\n",
              "  <tbody>\n",
              "    <tr>\n",
              "      <th>0</th>\n",
              "      <td>394</td>\n",
              "      <td>2016-01-01</td>\n",
              "      <td>32</td>\n",
              "      <td>Female</td>\n",
              "      <td>C20</td>\n",
              "      <td>Master</td>\n",
              "      <td>97722</td>\n",
              "      <td>2011-06-06</td>\n",
              "      <td>NaN</td>\n",
              "      <td>2</td>\n",
              "      <td>4</td>\n",
              "      <td>189360</td>\n",
              "      <td>1</td>\n",
              "    </tr>\n",
              "    <tr>\n",
              "      <th>1</th>\n",
              "      <td>394</td>\n",
              "      <td>2016-02-01</td>\n",
              "      <td>32</td>\n",
              "      <td>Female</td>\n",
              "      <td>C20</td>\n",
              "      <td>Master</td>\n",
              "      <td>97722</td>\n",
              "      <td>2011-06-06</td>\n",
              "      <td>NaN</td>\n",
              "      <td>2</td>\n",
              "      <td>4</td>\n",
              "      <td>390810</td>\n",
              "      <td>1</td>\n",
              "    </tr>\n",
              "    <tr>\n",
              "      <th>2</th>\n",
              "      <td>394</td>\n",
              "      <td>2016-03-01</td>\n",
              "      <td>32</td>\n",
              "      <td>Female</td>\n",
              "      <td>C20</td>\n",
              "      <td>Master</td>\n",
              "      <td>97722</td>\n",
              "      <td>2011-06-06</td>\n",
              "      <td>NaN</td>\n",
              "      <td>2</td>\n",
              "      <td>4</td>\n",
              "      <td>1846360</td>\n",
              "      <td>1</td>\n",
              "    </tr>\n",
              "    <tr>\n",
              "      <th>3</th>\n",
              "      <td>394</td>\n",
              "      <td>2016-04-01</td>\n",
              "      <td>33</td>\n",
              "      <td>Female</td>\n",
              "      <td>C20</td>\n",
              "      <td>Master</td>\n",
              "      <td>97722</td>\n",
              "      <td>2011-06-06</td>\n",
              "      <td>NaN</td>\n",
              "      <td>2</td>\n",
              "      <td>4</td>\n",
              "      <td>194010</td>\n",
              "      <td>2</td>\n",
              "    </tr>\n",
              "    <tr>\n",
              "      <th>4</th>\n",
              "      <td>394</td>\n",
              "      <td>2016-05-01</td>\n",
              "      <td>33</td>\n",
              "      <td>Female</td>\n",
              "      <td>C20</td>\n",
              "      <td>Master</td>\n",
              "      <td>97722</td>\n",
              "      <td>2011-06-06</td>\n",
              "      <td>NaN</td>\n",
              "      <td>2</td>\n",
              "      <td>4</td>\n",
              "      <td>371160</td>\n",
              "      <td>2</td>\n",
              "    </tr>\n",
              "  </tbody>\n",
              "</table>\n",
              "</div>"
            ],
            "text/plain": [
              "   Emp_ID      MMM-YY  Age  ... Designation Total Business Value Quarterly Rating\n",
              "0     394  2016-01-01   32  ...           4               189360                1\n",
              "1     394  2016-02-01   32  ...           4               390810                1\n",
              "2     394  2016-03-01   32  ...           4              1846360                1\n",
              "3     394  2016-04-01   33  ...           4               194010                2\n",
              "4     394  2016-05-01   33  ...           4               371160                2\n",
              "\n",
              "[5 rows x 13 columns]"
            ]
          },
          "metadata": {},
          "execution_count": 7
        }
      ]
    },
    {
      "cell_type": "markdown",
      "metadata": {
        "id": "f-Wszzky8pjv"
      },
      "source": [
        "## Creation of Target Column"
      ]
    },
    {
      "cell_type": "markdown",
      "metadata": {
        "id": "e7wxdtnJ8yiF"
      },
      "source": [
        "- O for Emp who are still with Organization\n",
        "- 1 for the Emp who have left the Organization"
      ]
    },
    {
      "cell_type": "code",
      "metadata": {
        "id": "LPRxX2vGCHF-"
      },
      "source": [
        "train_data['Attrition'] = train_data['LastWorkingDate']"
      ],
      "execution_count": null,
      "outputs": []
    },
    {
      "cell_type": "code",
      "metadata": {
        "id": "KlPj-MzECLeW"
      },
      "source": [
        "train_data.loc[train_data['Attrition'].notnull(), 'Attrition'] = 1\n",
        "train_data['Attrition'].fillna(0, inplace=True)"
      ],
      "execution_count": null,
      "outputs": []
    },
    {
      "cell_type": "code",
      "metadata": {
        "colab": {
          "base_uri": "https://localhost:8080/"
        },
        "id": "k79dFhHSjQUr",
        "outputId": "2ba4232e-cefd-4e17-d044-2835c7f9e106"
      },
      "source": [
        "train_data.isnull().sum()"
      ],
      "execution_count": null,
      "outputs": [
        {
          "output_type": "execute_result",
          "data": {
            "text/plain": [
              "MMM-YY                     0\n",
              "Emp_ID                     0\n",
              "Age                        0\n",
              "Gender                     0\n",
              "City                       0\n",
              "Education_Level            0\n",
              "Salary                     0\n",
              "Dateofjoining              0\n",
              "LastWorkingDate         8900\n",
              "Joining Designation        0\n",
              "Designation                0\n",
              "Total Business Value       0\n",
              "Quarterly Rating           0\n",
              "Attrition                  0\n",
              "dtype: int64"
            ]
          },
          "metadata": {},
          "execution_count": 10
        }
      ]
    },
    {
      "cell_type": "code",
      "metadata": {
        "colab": {
          "base_uri": "https://localhost:8080/"
        },
        "id": "xM59Z_wWjlln",
        "outputId": "adafc239-a237-4f87-d3a9-90b63532a4ca"
      },
      "source": [
        "test_data.isnull().sum()"
      ],
      "execution_count": null,
      "outputs": [
        {
          "output_type": "execute_result",
          "data": {
            "text/plain": [
              "Emp_ID                     0\n",
              "MMM-YY                     0\n",
              "Age                        0\n",
              "Gender                     0\n",
              "City                       0\n",
              "Education_Level            0\n",
              "Salary                     0\n",
              "Dateofjoining              0\n",
              "LastWorkingDate         8588\n",
              "Joining Designation        0\n",
              "Designation                0\n",
              "Total Business Value       0\n",
              "Quarterly Rating           0\n",
              "dtype: int64"
            ]
          },
          "metadata": {},
          "execution_count": 11
        }
      ]
    },
    {
      "cell_type": "code",
      "metadata": {
        "colab": {
          "base_uri": "https://localhost:8080/"
        },
        "id": "Cm0ZdAUKjx_h",
        "outputId": "aa00765c-be4f-474a-90d2-78c98f9eeadb"
      },
      "source": [
        "train_data['Attrition'].value_counts()"
      ],
      "execution_count": null,
      "outputs": [
        {
          "output_type": "execute_result",
          "data": {
            "text/plain": [
              "0    8900\n",
              "1    1616\n",
              "Name: Attrition, dtype: int64"
            ]
          },
          "metadata": {},
          "execution_count": 12
        }
      ]
    },
    {
      "cell_type": "markdown",
      "metadata": {
        "id": "CFRisBx0dRm8"
      },
      "source": [
        "## Feature Engineering"
      ]
    },
    {
      "cell_type": "code",
      "metadata": {
        "colab": {
          "base_uri": "https://localhost:8080/"
        },
        "id": "qITo6vKvdO-j",
        "outputId": "eb5b53f2-8cb0-4bb1-9cd1-0a7e05884965"
      },
      "source": [
        "# Train Data\n",
        "# Createing one new feature based on joining designation and designation\n",
        "train_data['DesignationChange']=train_data[\"Designation\"] - train_data[\"Joining Designation\"]\n",
        "#printing count and unique vales\n",
        "print(train_data.DesignationChange.nunique())\n",
        "print(train_data.DesignationChange.unique())\n",
        "# Assigning any value \n",
        "# train_data['DesignationChange'].values[train_data['DesignationChange'] > 1] = 1\n",
        "\n",
        "# print(train_data.DesignationChange.nunique())\n",
        "# print(train_data.DesignationChange.unique())"
      ],
      "execution_count": null,
      "outputs": [
        {
          "output_type": "stream",
          "name": "stdout",
          "text": [
            "5\n",
            "[0 3 1 2 4]\n"
          ]
        }
      ]
    },
    {
      "cell_type": "code",
      "metadata": {
        "colab": {
          "base_uri": "https://localhost:8080/"
        },
        "id": "rZ7aNDI7dPYW",
        "outputId": "ba5d5a9b-25c4-4410-e722-d6cf5a188356"
      },
      "source": [
        "# Test Data\n",
        "\n",
        "test_data['DesignationChange']=test_data[\"Designation\"] - test_data[\"Joining Designation\"]\n",
        "\n",
        "print(test_data.DesignationChange.nunique())\n",
        "print(test_data.DesignationChange.unique())\n",
        "\n",
        "# test_data['DesignationChange'].values[test_data['DesignationChange'] > 1] = 1\n",
        "\n",
        "# print(test_data.DesignationChange.nunique())\n",
        "# print(test_data.DesignationChange.unique())"
      ],
      "execution_count": null,
      "outputs": [
        {
          "output_type": "stream",
          "name": "stdout",
          "text": [
            "5\n",
            "[2 3 1 0 4]\n"
          ]
        }
      ]
    },
    {
      "cell_type": "code",
      "metadata": {
        "id": "VFhQ380LehnU"
      },
      "source": [
        "# Extracting Year from date of joining\n",
        "train_data['yearDOJ'] = pd.DatetimeIndex(train_data['Dateofjoining']).year\n",
        "test_data['yearDOJ'] = pd.DatetimeIndex(test_data['Dateofjoining']).year"
      ],
      "execution_count": null,
      "outputs": []
    },
    {
      "cell_type": "code",
      "metadata": {
        "id": "vztg2ePFeiDk"
      },
      "source": [
        ""
      ],
      "execution_count": null,
      "outputs": []
    },
    {
      "cell_type": "markdown",
      "metadata": {
        "id": "HUHg7Bdk9Faf"
      },
      "source": [
        "##Data Wrangling"
      ]
    },
    {
      "cell_type": "code",
      "metadata": {
        "colab": {
          "base_uri": "https://localhost:8080/",
          "height": 323
        },
        "id": "2vt1kcTzHrBQ",
        "outputId": "e81f996d-e42c-4fa0-f2f3-b9d8838904fe"
      },
      "source": [
        "train_data.head()"
      ],
      "execution_count": null,
      "outputs": [
        {
          "output_type": "execute_result",
          "data": {
            "text/html": [
              "<div>\n",
              "<style scoped>\n",
              "    .dataframe tbody tr th:only-of-type {\n",
              "        vertical-align: middle;\n",
              "    }\n",
              "\n",
              "    .dataframe tbody tr th {\n",
              "        vertical-align: top;\n",
              "    }\n",
              "\n",
              "    .dataframe thead th {\n",
              "        text-align: right;\n",
              "    }\n",
              "</style>\n",
              "<table border=\"1\" class=\"dataframe\">\n",
              "  <thead>\n",
              "    <tr style=\"text-align: right;\">\n",
              "      <th></th>\n",
              "      <th>MMM-YY</th>\n",
              "      <th>Emp_ID</th>\n",
              "      <th>Age</th>\n",
              "      <th>Gender</th>\n",
              "      <th>City</th>\n",
              "      <th>Education_Level</th>\n",
              "      <th>Salary</th>\n",
              "      <th>Dateofjoining</th>\n",
              "      <th>LastWorkingDate</th>\n",
              "      <th>Joining Designation</th>\n",
              "      <th>Designation</th>\n",
              "      <th>Total Business Value</th>\n",
              "      <th>Quarterly Rating</th>\n",
              "      <th>Attrition</th>\n",
              "    </tr>\n",
              "  </thead>\n",
              "  <tbody>\n",
              "    <tr>\n",
              "      <th>0</th>\n",
              "      <td>2016-01-01</td>\n",
              "      <td>1</td>\n",
              "      <td>28</td>\n",
              "      <td>Male</td>\n",
              "      <td>C23</td>\n",
              "      <td>Master</td>\n",
              "      <td>57387</td>\n",
              "      <td>2015-12-24</td>\n",
              "      <td>NaN</td>\n",
              "      <td>1</td>\n",
              "      <td>1</td>\n",
              "      <td>2381060</td>\n",
              "      <td>2</td>\n",
              "      <td>0</td>\n",
              "    </tr>\n",
              "    <tr>\n",
              "      <th>1</th>\n",
              "      <td>2016-02-01</td>\n",
              "      <td>1</td>\n",
              "      <td>28</td>\n",
              "      <td>Male</td>\n",
              "      <td>C23</td>\n",
              "      <td>Master</td>\n",
              "      <td>57387</td>\n",
              "      <td>2015-12-24</td>\n",
              "      <td>NaN</td>\n",
              "      <td>1</td>\n",
              "      <td>1</td>\n",
              "      <td>-665480</td>\n",
              "      <td>2</td>\n",
              "      <td>0</td>\n",
              "    </tr>\n",
              "    <tr>\n",
              "      <th>2</th>\n",
              "      <td>2016-03-01</td>\n",
              "      <td>1</td>\n",
              "      <td>28</td>\n",
              "      <td>Male</td>\n",
              "      <td>C23</td>\n",
              "      <td>Master</td>\n",
              "      <td>57387</td>\n",
              "      <td>2015-12-24</td>\n",
              "      <td>2016-03-11</td>\n",
              "      <td>1</td>\n",
              "      <td>1</td>\n",
              "      <td>0</td>\n",
              "      <td>2</td>\n",
              "      <td>1</td>\n",
              "    </tr>\n",
              "    <tr>\n",
              "      <th>5</th>\n",
              "      <td>2016-12-01</td>\n",
              "      <td>4</td>\n",
              "      <td>43</td>\n",
              "      <td>Male</td>\n",
              "      <td>C13</td>\n",
              "      <td>Master</td>\n",
              "      <td>65603</td>\n",
              "      <td>2016-12-07</td>\n",
              "      <td>NaN</td>\n",
              "      <td>2</td>\n",
              "      <td>2</td>\n",
              "      <td>0</td>\n",
              "      <td>1</td>\n",
              "      <td>0</td>\n",
              "    </tr>\n",
              "    <tr>\n",
              "      <th>6</th>\n",
              "      <td>2017-01-01</td>\n",
              "      <td>4</td>\n",
              "      <td>43</td>\n",
              "      <td>Male</td>\n",
              "      <td>C13</td>\n",
              "      <td>Master</td>\n",
              "      <td>65603</td>\n",
              "      <td>2016-12-07</td>\n",
              "      <td>NaN</td>\n",
              "      <td>2</td>\n",
              "      <td>2</td>\n",
              "      <td>0</td>\n",
              "      <td>1</td>\n",
              "      <td>0</td>\n",
              "    </tr>\n",
              "  </tbody>\n",
              "</table>\n",
              "</div>"
            ],
            "text/plain": [
              "       MMM-YY  Emp_ID  Age  ... Total Business Value Quarterly Rating Attrition\n",
              "0  2016-01-01       1   28  ...              2381060                2         0\n",
              "1  2016-02-01       1   28  ...              -665480                2         0\n",
              "2  2016-03-01       1   28  ...                    0                2         1\n",
              "5  2016-12-01       4   43  ...                    0                1         0\n",
              "6  2017-01-01       4   43  ...                    0                1         0\n",
              "\n",
              "[5 rows x 14 columns]"
            ]
          },
          "metadata": {},
          "execution_count": 16
        }
      ]
    },
    {
      "cell_type": "code",
      "metadata": {
        "colab": {
          "base_uri": "https://localhost:8080/",
          "height": 306
        },
        "id": "p_pe6QEnniJV",
        "outputId": "dc9cc7ab-21b3-4a14-d47c-9bbd961e409a"
      },
      "source": [
        "test_data.head()"
      ],
      "execution_count": null,
      "outputs": [
        {
          "output_type": "execute_result",
          "data": {
            "text/html": [
              "<div>\n",
              "<style scoped>\n",
              "    .dataframe tbody tr th:only-of-type {\n",
              "        vertical-align: middle;\n",
              "    }\n",
              "\n",
              "    .dataframe tbody tr th {\n",
              "        vertical-align: top;\n",
              "    }\n",
              "\n",
              "    .dataframe thead th {\n",
              "        text-align: right;\n",
              "    }\n",
              "</style>\n",
              "<table border=\"1\" class=\"dataframe\">\n",
              "  <thead>\n",
              "    <tr style=\"text-align: right;\">\n",
              "      <th></th>\n",
              "      <th>Emp_ID</th>\n",
              "      <th>MMM-YY</th>\n",
              "      <th>Age</th>\n",
              "      <th>Gender</th>\n",
              "      <th>City</th>\n",
              "      <th>Education_Level</th>\n",
              "      <th>Salary</th>\n",
              "      <th>Dateofjoining</th>\n",
              "      <th>LastWorkingDate</th>\n",
              "      <th>Joining Designation</th>\n",
              "      <th>Designation</th>\n",
              "      <th>Total Business Value</th>\n",
              "      <th>Quarterly Rating</th>\n",
              "    </tr>\n",
              "  </thead>\n",
              "  <tbody>\n",
              "    <tr>\n",
              "      <th>0</th>\n",
              "      <td>394</td>\n",
              "      <td>2016-01-01</td>\n",
              "      <td>32</td>\n",
              "      <td>Female</td>\n",
              "      <td>C20</td>\n",
              "      <td>Master</td>\n",
              "      <td>97722</td>\n",
              "      <td>2011-06-06</td>\n",
              "      <td>NaN</td>\n",
              "      <td>2</td>\n",
              "      <td>4</td>\n",
              "      <td>189360</td>\n",
              "      <td>1</td>\n",
              "    </tr>\n",
              "    <tr>\n",
              "      <th>1</th>\n",
              "      <td>394</td>\n",
              "      <td>2016-02-01</td>\n",
              "      <td>32</td>\n",
              "      <td>Female</td>\n",
              "      <td>C20</td>\n",
              "      <td>Master</td>\n",
              "      <td>97722</td>\n",
              "      <td>2011-06-06</td>\n",
              "      <td>NaN</td>\n",
              "      <td>2</td>\n",
              "      <td>4</td>\n",
              "      <td>390810</td>\n",
              "      <td>1</td>\n",
              "    </tr>\n",
              "    <tr>\n",
              "      <th>2</th>\n",
              "      <td>394</td>\n",
              "      <td>2016-03-01</td>\n",
              "      <td>32</td>\n",
              "      <td>Female</td>\n",
              "      <td>C20</td>\n",
              "      <td>Master</td>\n",
              "      <td>97722</td>\n",
              "      <td>2011-06-06</td>\n",
              "      <td>NaN</td>\n",
              "      <td>2</td>\n",
              "      <td>4</td>\n",
              "      <td>1846360</td>\n",
              "      <td>1</td>\n",
              "    </tr>\n",
              "    <tr>\n",
              "      <th>3</th>\n",
              "      <td>394</td>\n",
              "      <td>2016-04-01</td>\n",
              "      <td>33</td>\n",
              "      <td>Female</td>\n",
              "      <td>C20</td>\n",
              "      <td>Master</td>\n",
              "      <td>97722</td>\n",
              "      <td>2011-06-06</td>\n",
              "      <td>NaN</td>\n",
              "      <td>2</td>\n",
              "      <td>4</td>\n",
              "      <td>194010</td>\n",
              "      <td>2</td>\n",
              "    </tr>\n",
              "    <tr>\n",
              "      <th>4</th>\n",
              "      <td>394</td>\n",
              "      <td>2016-05-01</td>\n",
              "      <td>33</td>\n",
              "      <td>Female</td>\n",
              "      <td>C20</td>\n",
              "      <td>Master</td>\n",
              "      <td>97722</td>\n",
              "      <td>2011-06-06</td>\n",
              "      <td>NaN</td>\n",
              "      <td>2</td>\n",
              "      <td>4</td>\n",
              "      <td>371160</td>\n",
              "      <td>2</td>\n",
              "    </tr>\n",
              "  </tbody>\n",
              "</table>\n",
              "</div>"
            ],
            "text/plain": [
              "   Emp_ID      MMM-YY  Age  ... Designation Total Business Value Quarterly Rating\n",
              "0     394  2016-01-01   32  ...           4               189360                1\n",
              "1     394  2016-02-01   32  ...           4               390810                1\n",
              "2     394  2016-03-01   32  ...           4              1846360                1\n",
              "3     394  2016-04-01   33  ...           4               194010                2\n",
              "4     394  2016-05-01   33  ...           4               371160                2\n",
              "\n",
              "[5 rows x 13 columns]"
            ]
          },
          "metadata": {},
          "execution_count": 82
        }
      ]
    },
    {
      "cell_type": "markdown",
      "metadata": {
        "id": "UA5XoA6We61E"
      },
      "source": [
        "## Checkpoint for dataset"
      ]
    },
    {
      "cell_type": "code",
      "metadata": {
        "id": "kEA-cST6nmou"
      },
      "source": [
        "\n",
        "train_copied = train_data.copy()\n",
        "test_copied = test_data.copy()"
      ],
      "execution_count": null,
      "outputs": []
    },
    {
      "cell_type": "code",
      "metadata": {
        "id": "qR0zYnuiLkiN"
      },
      "source": [
        "# train.drop(['MMM-YY','Emp_ID', 'City','Dateofjoining',\n",
        "#        'LastWorkingDate'], inplace=True, axis=1)\n",
        "# test.drop(['MMM-YY','City','Dateofjoining',\n",
        "#        'LastWorkingDate'], inplace=True, axis=1)\n",
        "# test.set_index(\"Emp_ID\", inplace=True)"
      ],
      "execution_count": null,
      "outputs": []
    },
    {
      "cell_type": "markdown",
      "metadata": {
        "id": "_8Z8_zKCfc5H"
      },
      "source": [
        "## Data Pre-Processing"
      ]
    },
    {
      "cell_type": "code",
      "metadata": {
        "id": "grj70H7G-dD4"
      },
      "source": [
        "train = pd.get_dummies(train_data, columns=['Education_Level'], drop_first=True)\n",
        "train = pd.get_dummies(train, columns=['Gender'], drop_first=True)\n",
        "test = pd.get_dummies(test_data, columns=['Education_Level'], drop_first=True)\n",
        "test = pd.get_dummies(test, columns=['Gender'], drop_first=True)"
      ],
      "execution_count": null,
      "outputs": []
    },
    {
      "cell_type": "code",
      "metadata": {
        "colab": {
          "base_uri": "https://localhost:8080/"
        },
        "id": "sc9pcsHTDDxt",
        "outputId": "3a14f6d9-0c76-409e-8292-f6ee28709ce2"
      },
      "source": [
        "train.columns"
      ],
      "execution_count": null,
      "outputs": [
        {
          "output_type": "execute_result",
          "data": {
            "text/plain": [
              "Index(['MMM-YY', 'Emp_ID', 'Age', 'City', 'Salary', 'Dateofjoining',\n",
              "       'LastWorkingDate', 'Joining Designation', 'Designation',\n",
              "       'Total Business Value', 'Quarterly Rating', 'Attrition',\n",
              "       'DesignationChange', 'yearDOJ', 'Education_Level_College',\n",
              "       'Education_Level_Master', 'Gender_Male'],\n",
              "      dtype='object')"
            ]
          },
          "metadata": {},
          "execution_count": 20
        }
      ]
    },
    {
      "cell_type": "code",
      "metadata": {
        "colab": {
          "base_uri": "https://localhost:8080/"
        },
        "id": "pGIVr-ktLhg9",
        "outputId": "00e7ed63-6aa5-47d2-86d9-b695ad3c69d9"
      },
      "source": [
        "test.columns # need to work from here after final analysis\n"
      ],
      "execution_count": null,
      "outputs": [
        {
          "output_type": "execute_result",
          "data": {
            "text/plain": [
              "Index(['Emp_ID', 'MMM-YY', 'Age', 'City', 'Salary', 'Dateofjoining',\n",
              "       'LastWorkingDate', 'Joining Designation', 'Designation',\n",
              "       'Total Business Value', 'Quarterly Rating', 'DesignationChange',\n",
              "       'yearDOJ', 'Education_Level_College', 'Education_Level_Master',\n",
              "       'Gender_Male'],\n",
              "      dtype='object')"
            ]
          },
          "metadata": {},
          "execution_count": 21
        }
      ]
    },
    {
      "cell_type": "code",
      "metadata": {
        "id": "e7mK4yAvohV8"
      },
      "source": [
        "train.drop(['MMM-YY','Emp_ID', 'City','Dateofjoining','Joining Designation','Designation',\n",
        "       'LastWorkingDate'], inplace=True, axis=1)\n",
        "test.drop(['MMM-YY','City','Dateofjoining','Joining Designation','Designation',\n",
        "       'LastWorkingDate'], inplace=True, axis=1)\n",
        "test.set_index(\"Emp_ID\", inplace=True)"
      ],
      "execution_count": null,
      "outputs": []
    },
    {
      "cell_type": "code",
      "metadata": {
        "id": "8KIXP_nABhTX"
      },
      "source": [
        "train_col = train.columns\n",
        "test_col = test.columns"
      ],
      "execution_count": null,
      "outputs": []
    },
    {
      "cell_type": "markdown",
      "metadata": {
        "id": "59SfzrQwf-qJ"
      },
      "source": [
        "## Checkpoint after PreProcesing"
      ]
    },
    {
      "cell_type": "code",
      "metadata": {
        "id": "2A45ub0nf9Ya"
      },
      "source": [
        "train_processed = train.copy()\n",
        "test_processed = test.copy()"
      ],
      "execution_count": null,
      "outputs": []
    },
    {
      "cell_type": "code",
      "metadata": {
        "id": "0XkqPGwqELPO"
      },
      "source": [
        "X = train.drop(['Attrition'], axis=1)\n",
        "y = train['Attrition']"
      ],
      "execution_count": null,
      "outputs": []
    },
    {
      "cell_type": "code",
      "metadata": {
        "colab": {
          "base_uri": "https://localhost:8080/",
          "height": 204
        },
        "id": "Dz8Vjphjk4iV",
        "outputId": "6cd3d163-5e2d-4aed-f01e-592d5fc7864d"
      },
      "source": [
        "X.head()"
      ],
      "execution_count": null,
      "outputs": [
        {
          "output_type": "execute_result",
          "data": {
            "text/html": [
              "<div>\n",
              "<style scoped>\n",
              "    .dataframe tbody tr th:only-of-type {\n",
              "        vertical-align: middle;\n",
              "    }\n",
              "\n",
              "    .dataframe tbody tr th {\n",
              "        vertical-align: top;\n",
              "    }\n",
              "\n",
              "    .dataframe thead th {\n",
              "        text-align: right;\n",
              "    }\n",
              "</style>\n",
              "<table border=\"1\" class=\"dataframe\">\n",
              "  <thead>\n",
              "    <tr style=\"text-align: right;\">\n",
              "      <th></th>\n",
              "      <th>Age</th>\n",
              "      <th>Salary</th>\n",
              "      <th>Total Business Value</th>\n",
              "      <th>Quarterly Rating</th>\n",
              "      <th>DesignationChange</th>\n",
              "      <th>yearDOJ</th>\n",
              "      <th>Education_Level_College</th>\n",
              "      <th>Education_Level_Master</th>\n",
              "      <th>Gender_Male</th>\n",
              "    </tr>\n",
              "  </thead>\n",
              "  <tbody>\n",
              "    <tr>\n",
              "      <th>0</th>\n",
              "      <td>28</td>\n",
              "      <td>57387</td>\n",
              "      <td>2381060</td>\n",
              "      <td>2</td>\n",
              "      <td>0</td>\n",
              "      <td>2015</td>\n",
              "      <td>0</td>\n",
              "      <td>1</td>\n",
              "      <td>1</td>\n",
              "    </tr>\n",
              "    <tr>\n",
              "      <th>1</th>\n",
              "      <td>28</td>\n",
              "      <td>57387</td>\n",
              "      <td>-665480</td>\n",
              "      <td>2</td>\n",
              "      <td>0</td>\n",
              "      <td>2015</td>\n",
              "      <td>0</td>\n",
              "      <td>1</td>\n",
              "      <td>1</td>\n",
              "    </tr>\n",
              "    <tr>\n",
              "      <th>2</th>\n",
              "      <td>28</td>\n",
              "      <td>57387</td>\n",
              "      <td>0</td>\n",
              "      <td>2</td>\n",
              "      <td>0</td>\n",
              "      <td>2015</td>\n",
              "      <td>0</td>\n",
              "      <td>1</td>\n",
              "      <td>1</td>\n",
              "    </tr>\n",
              "    <tr>\n",
              "      <th>5</th>\n",
              "      <td>43</td>\n",
              "      <td>65603</td>\n",
              "      <td>0</td>\n",
              "      <td>1</td>\n",
              "      <td>0</td>\n",
              "      <td>2016</td>\n",
              "      <td>0</td>\n",
              "      <td>1</td>\n",
              "      <td>1</td>\n",
              "    </tr>\n",
              "    <tr>\n",
              "      <th>6</th>\n",
              "      <td>43</td>\n",
              "      <td>65603</td>\n",
              "      <td>0</td>\n",
              "      <td>1</td>\n",
              "      <td>0</td>\n",
              "      <td>2016</td>\n",
              "      <td>0</td>\n",
              "      <td>1</td>\n",
              "      <td>1</td>\n",
              "    </tr>\n",
              "  </tbody>\n",
              "</table>\n",
              "</div>"
            ],
            "text/plain": [
              "   Age  Salary  ...  Education_Level_Master  Gender_Male\n",
              "0   28   57387  ...                       1            1\n",
              "1   28   57387  ...                       1            1\n",
              "2   28   57387  ...                       1            1\n",
              "5   43   65603  ...                       1            1\n",
              "6   43   65603  ...                       1            1\n",
              "\n",
              "[5 rows x 9 columns]"
            ]
          },
          "metadata": {},
          "execution_count": 27
        }
      ]
    },
    {
      "cell_type": "code",
      "metadata": {
        "colab": {
          "base_uri": "https://localhost:8080/",
          "height": 235
        },
        "id": "h4Gz2MV3oUwN",
        "outputId": "e1f7d84b-e14e-4692-d4de-1a002becefca"
      },
      "source": [
        "test.head()"
      ],
      "execution_count": null,
      "outputs": [
        {
          "output_type": "execute_result",
          "data": {
            "text/html": [
              "<div>\n",
              "<style scoped>\n",
              "    .dataframe tbody tr th:only-of-type {\n",
              "        vertical-align: middle;\n",
              "    }\n",
              "\n",
              "    .dataframe tbody tr th {\n",
              "        vertical-align: top;\n",
              "    }\n",
              "\n",
              "    .dataframe thead th {\n",
              "        text-align: right;\n",
              "    }\n",
              "</style>\n",
              "<table border=\"1\" class=\"dataframe\">\n",
              "  <thead>\n",
              "    <tr style=\"text-align: right;\">\n",
              "      <th></th>\n",
              "      <th>Age</th>\n",
              "      <th>Salary</th>\n",
              "      <th>Total Business Value</th>\n",
              "      <th>Quarterly Rating</th>\n",
              "      <th>DesignationChange</th>\n",
              "      <th>yearDOJ</th>\n",
              "      <th>Education_Level_College</th>\n",
              "      <th>Education_Level_Master</th>\n",
              "      <th>Gender_Male</th>\n",
              "    </tr>\n",
              "    <tr>\n",
              "      <th>Emp_ID</th>\n",
              "      <th></th>\n",
              "      <th></th>\n",
              "      <th></th>\n",
              "      <th></th>\n",
              "      <th></th>\n",
              "      <th></th>\n",
              "      <th></th>\n",
              "      <th></th>\n",
              "      <th></th>\n",
              "    </tr>\n",
              "  </thead>\n",
              "  <tbody>\n",
              "    <tr>\n",
              "      <th>394</th>\n",
              "      <td>32</td>\n",
              "      <td>97722</td>\n",
              "      <td>189360</td>\n",
              "      <td>1</td>\n",
              "      <td>2</td>\n",
              "      <td>2011</td>\n",
              "      <td>0</td>\n",
              "      <td>1</td>\n",
              "      <td>0</td>\n",
              "    </tr>\n",
              "    <tr>\n",
              "      <th>394</th>\n",
              "      <td>32</td>\n",
              "      <td>97722</td>\n",
              "      <td>390810</td>\n",
              "      <td>1</td>\n",
              "      <td>2</td>\n",
              "      <td>2011</td>\n",
              "      <td>0</td>\n",
              "      <td>1</td>\n",
              "      <td>0</td>\n",
              "    </tr>\n",
              "    <tr>\n",
              "      <th>394</th>\n",
              "      <td>32</td>\n",
              "      <td>97722</td>\n",
              "      <td>1846360</td>\n",
              "      <td>1</td>\n",
              "      <td>2</td>\n",
              "      <td>2011</td>\n",
              "      <td>0</td>\n",
              "      <td>1</td>\n",
              "      <td>0</td>\n",
              "    </tr>\n",
              "    <tr>\n",
              "      <th>394</th>\n",
              "      <td>33</td>\n",
              "      <td>97722</td>\n",
              "      <td>194010</td>\n",
              "      <td>2</td>\n",
              "      <td>2</td>\n",
              "      <td>2011</td>\n",
              "      <td>0</td>\n",
              "      <td>1</td>\n",
              "      <td>0</td>\n",
              "    </tr>\n",
              "    <tr>\n",
              "      <th>394</th>\n",
              "      <td>33</td>\n",
              "      <td>97722</td>\n",
              "      <td>371160</td>\n",
              "      <td>2</td>\n",
              "      <td>2</td>\n",
              "      <td>2011</td>\n",
              "      <td>0</td>\n",
              "      <td>1</td>\n",
              "      <td>0</td>\n",
              "    </tr>\n",
              "  </tbody>\n",
              "</table>\n",
              "</div>"
            ],
            "text/plain": [
              "        Age  Salary  ...  Education_Level_Master  Gender_Male\n",
              "Emp_ID               ...                                     \n",
              "394      32   97722  ...                       1            0\n",
              "394      32   97722  ...                       1            0\n",
              "394      32   97722  ...                       1            0\n",
              "394      33   97722  ...                       1            0\n",
              "394      33   97722  ...                       1            0\n",
              "\n",
              "[5 rows x 9 columns]"
            ]
          },
          "metadata": {},
          "execution_count": 28
        }
      ]
    },
    {
      "cell_type": "markdown",
      "metadata": {
        "id": "uRwPCX6gjVaL"
      },
      "source": [
        "## Standardization"
      ]
    },
    {
      "cell_type": "code",
      "metadata": {
        "id": "0B-y2_SRDnv2"
      },
      "source": [
        "from sklearn.preprocessing import StandardScaler\n",
        "scale = StandardScaler()\n",
        "X = scale.fit_transform(X)\n",
        "test= scale.fit_transform(test)"
      ],
      "execution_count": null,
      "outputs": []
    },
    {
      "cell_type": "code",
      "metadata": {
        "id": "8WSoG8EeEA-J"
      },
      "source": [
        "from sklearn.model_selection import train_test_split\n",
        "X_train, X_val, y_train, y_test = train_test_split(X,y,test_size =0.3,random_state=42)"
      ],
      "execution_count": null,
      "outputs": []
    },
    {
      "cell_type": "markdown",
      "metadata": {
        "id": "HDSoFngbjcqQ"
      },
      "source": [
        "## Function to test different Model and there performance"
      ]
    },
    {
      "cell_type": "code",
      "metadata": {
        "id": "zqEw2_SIE3FS"
      },
      "source": [
        "def train_test_ml_model(X_train,y_train,X_test,Model):\n",
        "    model.fit(X_train,y_train) #Train the Model\n",
        "    y_pred = model.predict(X_test) #Use the Model for prediction\n",
        "\n",
        "    # Test the Model\n",
        "    from sklearn.metrics import confusion_matrix\n",
        "    from sklearn.metrics import f1_score\n",
        "    cm = confusion_matrix(y_test,y_pred)\n",
        "    accuracy = round(100*np.trace(cm)/np.sum(cm),1)\n",
        "    f1score = f1_score(y_test, y_pred, average='micro')\n",
        "\n",
        "    #Plot/Display the results\n",
        "    cm_plot(cm,Model)\n",
        "    print('Accuracy of the Model' ,Model, str(accuracy)+'%')\n",
        "    print('f1score of the model' ,Model, str(f1score)+ '%')"
      ],
      "execution_count": null,
      "outputs": []
    },
    {
      "cell_type": "code",
      "metadata": {
        "id": "tbfrYpVCE9v-"
      },
      "source": [
        "#Function to plot Confusion Matrix\n",
        "def cm_plot(cm,Model):\n",
        "    plt.clf()\n",
        "    plt.imshow(cm, interpolation='nearest', cmap=plt.cm.Wistia)\n",
        "    classNames = ['Negative','Positive']\n",
        "    plt.title('Comparison of Prediction Result for '+ Model)\n",
        "    plt.ylabel('True label')\n",
        "    plt.xlabel('Predicted label')\n",
        "    tick_marks = np.arange(len(classNames))\n",
        "    plt.xticks(tick_marks, classNames, rotation=45)\n",
        "    plt.yticks(tick_marks, classNames)\n",
        "    s = [['TN','FP'], ['FN', 'TP']]\n",
        "    for i in range(2):\n",
        "        for j in range(2):\n",
        "            plt.text(j,i, str(s[i][j])+\" = \"+str(cm[i][j]))\n",
        "    plt.show()"
      ],
      "execution_count": null,
      "outputs": []
    },
    {
      "cell_type": "markdown",
      "metadata": {
        "id": "P1yhSkRhjmgP"
      },
      "source": [
        "### Importing relevant libraries"
      ]
    },
    {
      "cell_type": "code",
      "metadata": {
        "id": "yv7BZOYoFB-g"
      },
      "source": [
        "from sklearn.svm import SVC,NuSVC\n",
        "from xgboost import XGBClassifier\n",
        "from sklearn.neighbors import KNeighborsClassifier\n",
        "from sklearn.naive_bayes import GaussianNB,MultinomialNB\n",
        "from sklearn.linear_model import SGDClassifier, LogisticRegression\n",
        "from sklearn.tree import DecisionTreeClassifier, ExtraTreeClassifier\n",
        "from sklearn.discriminant_analysis import QuadraticDiscriminantAnalysis, LinearDiscriminantAnalysis\n",
        "from sklearn.ensemble import RandomForestClassifier, AdaBoostClassifier, GradientBoostingClassifier"
      ],
      "execution_count": null,
      "outputs": []
    },
    {
      "cell_type": "markdown",
      "metadata": {
        "id": "WwgrSTugjsEy"
      },
      "source": [
        "### SVM"
      ]
    },
    {
      "cell_type": "code",
      "metadata": {
        "colab": {
          "base_uri": "https://localhost:8080/",
          "height": 367
        },
        "id": "j1eRgwhtFHdn",
        "outputId": "c624bd52-8aec-477a-a6c7-d7c7f88118f8"
      },
      "source": [
        "Model = \"SVC\"\n",
        "model=SVC()\n",
        "\n",
        "train_test_ml_model(X_train,y_train,X_val,Model)"
      ],
      "execution_count": null,
      "outputs": [
        {
          "output_type": "display_data",
          "data": {
            "image/png": "[encoded data removed]",
            "text/plain": [
              "<Figure size 432x288 with 1 Axes>"
            ]
          },
          "metadata": {
            "needs_background": "light"
          }
        },
        {
          "output_type": "stream",
          "name": "stdout",
          "text": [
            "Accuracy of the Model SVC 84.7%\n",
            "f1score of the model SVC 0.8465927099841521%\n"
          ]
        }
      ]
    },
    {
      "cell_type": "markdown",
      "metadata": {
        "id": "c9L4xB-7jvMO"
      },
      "source": [
        "### Nu SVM"
      ]
    },
    {
      "cell_type": "code",
      "metadata": {
        "colab": {
          "base_uri": "https://localhost:8080/",
          "height": 367
        },
        "id": "LPYeAu-3MnKg",
        "outputId": "6c275805-37cc-4e5c-e33d-a00e04674b4c"
      },
      "source": [
        "Model = \"NuSVC\"\n",
        "model=NuSVC(nu=0.150)\n",
        "\n",
        "train_test_ml_model(X_train,y_train,X_val,Model)"
      ],
      "execution_count": null,
      "outputs": [
        {
          "output_type": "display_data",
          "data": {
            "image/png": "[encoded data removed]",
            "text/plain": [
              "<Figure size 432x288 with 1 Axes>"
            ]
          },
          "metadata": {
            "needs_background": "light"
          }
        },
        {
          "output_type": "stream",
          "name": "stdout",
          "text": [
            "Accuracy of the Model NuSVC 68.3%\n",
            "f1score of the model NuSVC 0.6830427892234548%\n"
          ]
        }
      ]
    },
    {
      "cell_type": "markdown",
      "metadata": {
        "id": "3hHFGGEZkAN5"
      },
      "source": [
        "### XGB Classifier"
      ]
    },
    {
      "cell_type": "code",
      "metadata": {
        "colab": {
          "base_uri": "https://localhost:8080/",
          "height": 367
        },
        "id": "7tzXq-fUNdqE",
        "outputId": "630829fc-6f0d-40ae-f6ba-12a19a475e92"
      },
      "source": [
        "Model = \"XGBClassifier()\"\n",
        "model=XGBClassifier() #Create the Model\n",
        "\n",
        "train_test_ml_model(X_train,y_train,X_val,Model)"
      ],
      "execution_count": null,
      "outputs": [
        {
          "output_type": "display_data",
          "data": {
            "image/png": "[encoded data removed]",
            "text/plain": [
              "<Figure size 432x288 with 1 Axes>"
            ]
          },
          "metadata": {
            "needs_background": "light"
          }
        },
        {
          "output_type": "stream",
          "name": "stdout",
          "text": [
            "Accuracy of the Model XGBClassifier() 84.6%\n",
            "f1score of the model XGBClassifier() 0.8456418383518225%\n"
          ]
        }
      ]
    },
    {
      "cell_type": "markdown",
      "metadata": {
        "id": "GV3a89pXkFCR"
      },
      "source": [
        "### KNeighbors Classifier"
      ]
    },
    {
      "cell_type": "code",
      "metadata": {
        "colab": {
          "base_uri": "https://localhost:8080/",
          "height": 367
        },
        "id": "awmK4NoINdzN",
        "outputId": "e7a59bf9-1c43-474d-8be7-ab2a43407f0f"
      },
      "source": [
        "Model = \"KNeighborsClassifier\"\n",
        "model=KNeighborsClassifier()\n",
        "\n",
        "train_test_ml_model(X_train,y_train,X_val,Model)"
      ],
      "execution_count": null,
      "outputs": [
        {
          "output_type": "display_data",
          "data": {
            "image/png": "[encoded data removed]",
            "text/plain": [
              "<Figure size 432x288 with 1 Axes>"
            ]
          },
          "metadata": {
            "needs_background": "light"
          }
        },
        {
          "output_type": "stream",
          "name": "stdout",
          "text": [
            "Accuracy of the Model KNeighborsClassifier 82.3%\n",
            "f1score of the model KNeighborsClassifier 0.8228209191759113%\n"
          ]
        }
      ]
    },
    {
      "cell_type": "markdown",
      "metadata": {
        "id": "FgYDt00HkMRd"
      },
      "source": [
        "### Gaussian Naive "
      ]
    },
    {
      "cell_type": "code",
      "metadata": {
        "colab": {
          "base_uri": "https://localhost:8080/",
          "height": 367
        },
        "id": "C2uPqo85Nd8A",
        "outputId": "bc5ddb9e-96c6-400f-87bc-151ad6815a7f"
      },
      "source": [
        "Model = \"GaussianNB\"\n",
        "model=GaussianNB()\n",
        "\n",
        "train_test_ml_model(X_train,y_train,X_val,Model)"
      ],
      "execution_count": null,
      "outputs": [
        {
          "output_type": "display_data",
          "data": {
            "image/png": "[encoded data removed]",
            "text/plain": [
              "<Figure size 432x288 with 1 Axes>"
            ]
          },
          "metadata": {
            "needs_background": "light"
          }
        },
        {
          "output_type": "stream",
          "name": "stdout",
          "text": [
            "Accuracy of the Model GaussianNB 60.9%\n",
            "f1score of the model GaussianNB 0.6091917591125198%\n"
          ]
        }
      ]
    },
    {
      "cell_type": "markdown",
      "metadata": {
        "id": "n7u67ODSkR8E"
      },
      "source": [
        "### SGD Classifier"
      ]
    },
    {
      "cell_type": "code",
      "metadata": {
        "colab": {
          "base_uri": "https://localhost:8080/",
          "height": 367
        },
        "id": "G7Oj5T9MNeHA",
        "outputId": "b7bfa035-bf20-4eef-b292-bae772485aef"
      },
      "source": [
        "Model = \"SGDClassifier\"\n",
        "model=SGDClassifier()\n",
        "\n",
        "\n",
        "train_test_ml_model(X_train,y_train,X_val,Model)"
      ],
      "execution_count": null,
      "outputs": [
        {
          "output_type": "display_data",
          "data": {
            "image/png": "[encoded data removed]",
            "text/plain": [
              "<Figure size 432x288 with 1 Axes>"
            ]
          },
          "metadata": {
            "needs_background": "light"
          }
        },
        {
          "output_type": "stream",
          "name": "stdout",
          "text": [
            "Accuracy of the Model SGDClassifier 84.6%\n",
            "f1score of the model SGDClassifier 0.8462757527733756%\n"
          ]
        }
      ]
    },
    {
      "cell_type": "markdown",
      "metadata": {
        "id": "_oX67jN8kWnX"
      },
      "source": [
        "### Logistic Regression"
      ]
    },
    {
      "cell_type": "code",
      "metadata": {
        "colab": {
          "base_uri": "https://localhost:8080/",
          "height": 367
        },
        "id": "onY6fH2NNeSQ",
        "outputId": "590766eb-eb14-4916-8797-070009228751"
      },
      "source": [
        "Model = \"LogisticRegression\"\n",
        "model=LogisticRegression()\n",
        "\n",
        "train_test_ml_model(X_train,y_train,X_val,Model)"
      ],
      "execution_count": null,
      "outputs": [
        {
          "output_type": "display_data",
          "data": {
            "image/png": "[encoded data removed]",
            "text/plain": [
              "<Figure size 432x288 with 1 Axes>"
            ]
          },
          "metadata": {
            "needs_background": "light"
          }
        },
        {
          "output_type": "stream",
          "name": "stdout",
          "text": [
            "Accuracy of the Model LogisticRegression 84.5%\n",
            "f1score of the model LogisticRegression 0.845324881141046%\n"
          ]
        }
      ]
    },
    {
      "cell_type": "markdown",
      "metadata": {
        "id": "x6-L2z-1kawq"
      },
      "source": [
        "### Decision Tree"
      ]
    },
    {
      "cell_type": "code",
      "metadata": {
        "colab": {
          "base_uri": "https://localhost:8080/",
          "height": 367
        },
        "id": "jKGRKXG5Neb3",
        "outputId": "44caf069-f172-4351-da09-ceb18cfcef34"
      },
      "source": [
        "Model = \"DecisionTreeClassifier\"\n",
        "model=DecisionTreeClassifier()\n",
        "\n",
        "train_test_ml_model(X_train,y_train,X_val,Model)"
      ],
      "execution_count": null,
      "outputs": [
        {
          "output_type": "display_data",
          "data": {
            "image/png": "[encoded data removed]",
            "text/plain": [
              "<Figure size 432x288 with 1 Axes>"
            ]
          },
          "metadata": {
            "needs_background": "light"
          }
        },
        {
          "output_type": "stream",
          "name": "stdout",
          "text": [
            "Accuracy of the Model DecisionTreeClassifier 79.7%\n",
            "f1score of the model DecisionTreeClassifier 0.7971473851030111%\n"
          ]
        }
      ]
    },
    {
      "cell_type": "markdown",
      "metadata": {
        "id": "GzdNOI--keNN"
      },
      "source": [
        "### Extra Tree"
      ]
    },
    {
      "cell_type": "code",
      "metadata": {
        "colab": {
          "base_uri": "https://localhost:8080/",
          "height": 367
        },
        "id": "thgAwVTSNenl",
        "outputId": "56bcc061-a584-4029-c920-08199d4ecb6e"
      },
      "source": [
        "Model = \"ExtraTreeClassifier\"\n",
        "model=ExtraTreeClassifier()\n",
        "\n",
        "train_test_ml_model(X_train,y_train,X_val,Model)"
      ],
      "execution_count": null,
      "outputs": [
        {
          "output_type": "display_data",
          "data": {
            "image/png": "[encoded data removed]",
            "text/plain": [
              "<Figure size 432x288 with 1 Axes>"
            ]
          },
          "metadata": {
            "needs_background": "light"
          }
        },
        {
          "output_type": "stream",
          "name": "stdout",
          "text": [
            "Accuracy of the Model ExtraTreeClassifier 78.6%\n",
            "f1score of the model ExtraTreeClassifier 0.7863708399366087%\n"
          ]
        }
      ]
    },
    {
      "cell_type": "markdown",
      "metadata": {
        "id": "nzymY_ilkiD0"
      },
      "source": [
        "### QDA"
      ]
    },
    {
      "cell_type": "code",
      "metadata": {
        "colab": {
          "base_uri": "https://localhost:8080/",
          "height": 367
        },
        "id": "85k1Oa5tNeyS",
        "outputId": "d49d2273-e348-48e4-9f7b-1cfa896cf394"
      },
      "source": [
        "Model = \"QuadraticDiscriminantAnalysis\"\n",
        "model = QuadraticDiscriminantAnalysis()\n",
        "\n",
        "train_test_ml_model(X_train,y_train,X_val,Model)"
      ],
      "execution_count": null,
      "outputs": [
        {
          "output_type": "display_data",
          "data": {
            "image/png": "[encoded data removed]",
            "text/plain": [
              "<Figure size 432x288 with 1 Axes>"
            ]
          },
          "metadata": {
            "needs_background": "light"
          }
        },
        {
          "output_type": "stream",
          "name": "stdout",
          "text": [
            "Accuracy of the Model QuadraticDiscriminantAnalysis 62.3%\n",
            "f1score of the model QuadraticDiscriminantAnalysis 0.6228209191759112%\n"
          ]
        }
      ]
    },
    {
      "cell_type": "markdown",
      "metadata": {
        "id": "OIrOHFZGkky_"
      },
      "source": [
        "### LDA"
      ]
    },
    {
      "cell_type": "code",
      "metadata": {
        "colab": {
          "base_uri": "https://localhost:8080/",
          "height": 367
        },
        "id": "tGueU3iuNe6W",
        "outputId": "0fe3496c-3560-4097-fbf6-d5cdd17e26cf"
      },
      "source": [
        "Model = \"LinearDiscriminantAnalysis\"\n",
        "model=LinearDiscriminantAnalysis()\n",
        "\n",
        "train_test_ml_model(X_train,y_train,X_val,Model)"
      ],
      "execution_count": null,
      "outputs": [
        {
          "output_type": "display_data",
          "data": {
            "image/png": "[encoded data removed]",
            "text/plain": [
              "<Figure size 432x288 with 1 Axes>"
            ]
          },
          "metadata": {
            "needs_background": "light"
          }
        },
        {
          "output_type": "stream",
          "name": "stdout",
          "text": [
            "Accuracy of the Model LinearDiscriminantAnalysis 84.7%\n",
            "f1score of the model LinearDiscriminantAnalysis 0.8465927099841521%\n"
          ]
        }
      ]
    },
    {
      "cell_type": "markdown",
      "metadata": {
        "id": "r0O86F_3knWf"
      },
      "source": [
        "### Random Forest"
      ]
    },
    {
      "cell_type": "code",
      "metadata": {
        "colab": {
          "base_uri": "https://localhost:8080/",
          "height": 367
        },
        "id": "gbNqiqV4NfI8",
        "outputId": "552cc1c4-fbac-4241-b9c8-12c0b9280187"
      },
      "source": [
        "Model = \"RandomForestClassifier\"\n",
        "model=RandomForestClassifier()\n",
        "\n",
        "train_test_ml_model(X_train,y_train,X_val,Model)"
      ],
      "execution_count": null,
      "outputs": [
        {
          "output_type": "display_data",
          "data": {
            "image/png": "[encoded data removed]",
            "text/plain": [
              "<Figure size 432x288 with 1 Axes>"
            ]
          },
          "metadata": {
            "needs_background": "light"
          }
        },
        {
          "output_type": "stream",
          "name": "stdout",
          "text": [
            "Accuracy of the Model RandomForestClassifier 80.6%\n",
            "f1score of the model RandomForestClassifier 0.8060221870047543%\n"
          ]
        }
      ]
    },
    {
      "cell_type": "markdown",
      "metadata": {
        "id": "rILVxScFkraz"
      },
      "source": [
        "### Ada Boost"
      ]
    },
    {
      "cell_type": "code",
      "metadata": {
        "colab": {
          "base_uri": "https://localhost:8080/",
          "height": 367
        },
        "id": "JKIjzc1aNfYa",
        "outputId": "22327dae-f211-4c46-84a6-399d2bdd93d6"
      },
      "source": [
        "Model = \"AdaBoostClassifier\"\n",
        "model=AdaBoostClassifier()\n",
        "\n",
        "train_test_ml_model(X_train,y_train,X_val,Model)"
      ],
      "execution_count": null,
      "outputs": [
        {
          "output_type": "display_data",
          "data": {
            "image/png": "[encoded data removed]",
            "text/plain": [
              "<Figure size 432x288 with 1 Axes>"
            ]
          },
          "metadata": {
            "needs_background": "light"
          }
        },
        {
          "output_type": "stream",
          "name": "stdout",
          "text": [
            "Accuracy of the Model AdaBoostClassifier 84.3%\n",
            "f1score of the model AdaBoostClassifier 0.8434231378763867%\n"
          ]
        }
      ]
    },
    {
      "cell_type": "markdown",
      "metadata": {
        "id": "W8HTYSrEku9-"
      },
      "source": [
        "### Gradient Boost"
      ]
    },
    {
      "cell_type": "code",
      "metadata": {
        "colab": {
          "base_uri": "https://localhost:8080/",
          "height": 367
        },
        "id": "Sw56NkdoNfkD",
        "outputId": "9469f677-9253-49ae-a884-61f5fa74c804"
      },
      "source": [
        "Model = \"GradientBoostingClassifier\"\n",
        "model=GradientBoostingClassifier()\n",
        "\n",
        "train_test_ml_model(X_train,y_train,X_val,Model)"
      ],
      "execution_count": null,
      "outputs": [
        {
          "output_type": "display_data",
          "data": {
            "image/png": "[encoded data removed]",
            "text/plain": [
              "<Figure size 432x288 with 1 Axes>"
            ]
          },
          "metadata": {
            "needs_background": "light"
          }
        },
        {
          "output_type": "stream",
          "name": "stdout",
          "text": [
            "Accuracy of the Model GradientBoostingClassifier 84.5%\n",
            "f1score of the model GradientBoostingClassifier 0.845324881141046%\n"
          ]
        }
      ]
    },
    {
      "cell_type": "code",
      "metadata": {
        "id": "65ERFlMiiyMr"
      },
      "source": [
        ""
      ],
      "execution_count": null,
      "outputs": []
    },
    {
      "cell_type": "markdown",
      "metadata": {
        "id": "xsO6P4sBognk"
      },
      "source": [
        "## Hyperparameter Tunning for Logistic and AdaBoost"
      ]
    },
    {
      "cell_type": "code",
      "metadata": {
        "id": "5fvQtqSBiziO"
      },
      "source": [
        "from sklearn.metrics import confusion_matrix\n",
        "from sklearn.metrics import f1_score"
      ],
      "execution_count": null,
      "outputs": []
    },
    {
      "cell_type": "code",
      "metadata": {
        "id": "rHKkv9DMNftc",
        "colab": {
          "base_uri": "https://localhost:8080/"
        },
        "outputId": "b11667cf-9567-4d0a-d920-e9efc2236dd3"
      },
      "source": [
        "from sklearn.model_selection import GridSearchCV\n",
        "  \n",
        "# Creating the hyperparameter grid\n",
        "c_space = np.logspace(-5, 8, 15)\n",
        "param_grid = {'C': c_space}\n",
        "  \n",
        "# Instantiating logistic regression classifier\n",
        "logreg = LogisticRegression()\n",
        "  \n",
        "# Instantiating the GridSearchCV object\n",
        "logreg_cv = GridSearchCV(logreg, param_grid, cv = 5)\n",
        "  \n",
        "logreg_cv.fit(X_train, y_train)\n",
        "  \n",
        "# Print the tuned parameters and score\n",
        "print(\"Tuned Logistic Regression Parameters: {}\".format(logreg_cv.best_params_)) \n",
        "print(\"Best score is {}\".format(logreg_cv.best_score_))"
      ],
      "execution_count": null,
      "outputs": [
        {
          "output_type": "stream",
          "name": "stdout",
          "text": [
            "Tuned Logistic Regression Parameters: {'C': 1e-05}\n",
            "Best score is 0.8462165906608814\n"
          ]
        }
      ]
    },
    {
      "cell_type": "code",
      "metadata": {
        "id": "nVKjs25Mp0xy"
      },
      "source": [
        "y_pred_logistic = logreg_cv.predict(X_val)"
      ],
      "execution_count": null,
      "outputs": []
    },
    {
      "cell_type": "code",
      "metadata": {
        "id": "HiQDK6Njp1So"
      },
      "source": [
        "cm_logistic = confusion_matrix(y_test,y_pred_logistic )\n",
        "accuracy_logistic = round(100*np.trace(cm_logistic)/np.sum(cm_logistic),1)\n",
        "f1score_logistic = f1_score(y_test, y_pred_logistic , average='macro')"
      ],
      "execution_count": null,
      "outputs": []
    },
    {
      "cell_type": "code",
      "metadata": {
        "colab": {
          "base_uri": "https://localhost:8080/"
        },
        "id": "FukckEtzp1pA",
        "outputId": "ebdac34c-802f-4ec0-dd4c-a5d315af34ac"
      },
      "source": [
        "print(cm_logistic)\n",
        "print(accuracy_logistic)\n",
        "print(f1score_logistic)"
      ],
      "execution_count": null,
      "outputs": [
        {
          "output_type": "stream",
          "name": "stdout",
          "text": [
            "[[2671    0]\n",
            " [ 484    0]]\n",
            "84.7\n",
            "0.4584620665980089\n"
          ]
        }
      ]
    },
    {
      "cell_type": "code",
      "metadata": {
        "id": "drWSEP8cp2Cy"
      },
      "source": [
        "from sklearn.model_selection import RepeatedStratifiedKFold"
      ],
      "execution_count": null,
      "outputs": []
    },
    {
      "cell_type": "code",
      "metadata": {
        "colab": {
          "base_uri": "https://localhost:8080/"
        },
        "id": "EwhPPa2qrReM",
        "outputId": "6a2d1fdc-4db4-4bfe-d6ef-f4d5932c578a"
      },
      "source": [
        "model = AdaBoostClassifier()\n",
        "# define the grid of values to search\n",
        "grid = dict()\n",
        "grid['n_estimators'] = [10, 50, 100, 500]\n",
        "grid['learning_rate'] = [0.0001, 0.001, 0.01, 0.1, 1.0]\n",
        "# define the evaluation procedure\n",
        "cv = RepeatedStratifiedKFold(n_splits=10, n_repeats=3, random_state=1)\n",
        "# define the grid search procedure\n",
        "grid_search = GridSearchCV(estimator=model, param_grid=grid, n_jobs=-1, cv=cv, scoring='accuracy')\n",
        "# execute the grid search\n",
        "grid_result = grid_search.fit(X_train, y_train)\n",
        "# summarize the best score and configuration\n",
        "print(\"Best: %f using %s\" % (grid_result.best_score_, grid_result.best_params_))\n",
        "# summarize all scores that were evaluated\n",
        "means = grid_result.cv_results_['mean_test_score']\n",
        "stds = grid_result.cv_results_['std_test_score']\n",
        "params = grid_result.cv_results_['params']\n",
        "for mean, stdev, param in zip(means, stds, params):\n",
        "    print(\"%f (%f) with: %r\" % (mean, stdev, param))"
      ],
      "execution_count": null,
      "outputs": [
        {
          "output_type": "stream",
          "name": "stdout",
          "text": [
            "Best: 0.846217 using {'learning_rate': 0.0001, 'n_estimators': 10}\n",
            "0.846217 (0.000504) with: {'learning_rate': 0.0001, 'n_estimators': 10}\n",
            "0.846217 (0.000504) with: {'learning_rate': 0.0001, 'n_estimators': 50}\n",
            "0.846217 (0.000504) with: {'learning_rate': 0.0001, 'n_estimators': 100}\n",
            "0.846217 (0.000504) with: {'learning_rate': 0.0001, 'n_estimators': 500}\n",
            "0.846217 (0.000504) with: {'learning_rate': 0.001, 'n_estimators': 10}\n",
            "0.846217 (0.000504) with: {'learning_rate': 0.001, 'n_estimators': 50}\n",
            "0.846217 (0.000504) with: {'learning_rate': 0.001, 'n_estimators': 100}\n",
            "0.846217 (0.000504) with: {'learning_rate': 0.001, 'n_estimators': 500}\n",
            "0.846217 (0.000504) with: {'learning_rate': 0.01, 'n_estimators': 10}\n",
            "0.846217 (0.000504) with: {'learning_rate': 0.01, 'n_estimators': 50}\n",
            "0.846217 (0.000504) with: {'learning_rate': 0.01, 'n_estimators': 100}\n",
            "0.846217 (0.000504) with: {'learning_rate': 0.01, 'n_estimators': 500}\n",
            "0.846217 (0.000504) with: {'learning_rate': 0.1, 'n_estimators': 10}\n",
            "0.846217 (0.000504) with: {'learning_rate': 0.1, 'n_estimators': 50}\n",
            "0.846217 (0.000504) with: {'learning_rate': 0.1, 'n_estimators': 100}\n",
            "0.845719 (0.000941) with: {'learning_rate': 0.1, 'n_estimators': 500}\n",
            "0.846217 (0.000504) with: {'learning_rate': 1.0, 'n_estimators': 10}\n",
            "0.844134 (0.002220) with: {'learning_rate': 1.0, 'n_estimators': 50}\n",
            "0.844496 (0.002002) with: {'learning_rate': 1.0, 'n_estimators': 100}\n",
            "0.843726 (0.002368) with: {'learning_rate': 1.0, 'n_estimators': 500}\n"
          ]
        }
      ]
    },
    {
      "cell_type": "code",
      "metadata": {
        "id": "3C0nj-HfrR20"
      },
      "source": [
        "y_pred_ada = grid_result.predict(X_val)"
      ],
      "execution_count": null,
      "outputs": []
    },
    {
      "cell_type": "code",
      "metadata": {
        "id": "9HYlr-xurSQi"
      },
      "source": [
        "cm_ada = confusion_matrix(y_test,y_pred_ada)\n",
        "accuracy_ada = round(100*np.trace(cm_ada)/np.sum(cm_ada),1)\n",
        "f1score_ada = f1_score(y_test, y_pred_ada, average='micro')"
      ],
      "execution_count": null,
      "outputs": []
    },
    {
      "cell_type": "code",
      "metadata": {
        "colab": {
          "base_uri": "https://localhost:8080/"
        },
        "id": "iBRuguN3rSsY",
        "outputId": "39545f40-2766-42bb-892c-3bd36ea579a4"
      },
      "source": [
        "print(cm_ada)\n",
        "print(accuracy_ada)\n",
        "print(f1score_ada)"
      ],
      "execution_count": null,
      "outputs": [
        {
          "output_type": "stream",
          "name": "stdout",
          "text": [
            "[[2671    0]\n",
            " [ 484    0]]\n",
            "84.7\n",
            "0.8465927099841521\n"
          ]
        }
      ]
    },
    {
      "cell_type": "markdown",
      "metadata": {
        "id": "gM5tm98sopla"
      },
      "source": [
        "###Inference\n",
        "there is negligible increase in accuracy, but model become biased."
      ]
    },
    {
      "cell_type": "code",
      "metadata": {
        "id": "F6Bk-Myqp2dC"
      },
      "source": [
        ""
      ],
      "execution_count": null,
      "outputs": []
    },
    {
      "cell_type": "markdown",
      "metadata": {
        "id": "2l8nuB_ipRMM"
      },
      "source": [
        "## Model Analysis\n",
        "LDA and SVM without any tuning yields 84.7% accuracy"
      ]
    },
    {
      "cell_type": "code",
      "metadata": {
        "id": "5q3CrqRSqPY2"
      },
      "source": [
        ""
      ],
      "execution_count": null,
      "outputs": []
    },
    {
      "cell_type": "markdown",
      "metadata": {
        "id": "eElKA5daqVQr"
      },
      "source": [
        "### HYperparameter tuning of SVM"
      ]
    },
    {
      "cell_type": "code",
      "metadata": {
        "colab": {
          "base_uri": "https://localhost:8080/"
        },
        "id": "GL3pG-m3qQGa",
        "outputId": "ac497275-f57a-4ca2-fcb1-0ce721e026cb"
      },
      "source": [
        "from sklearn.model_selection import GridSearchCV\n",
        " \n",
        "# defining parameter range\n",
        "param_grid = {'C': [0.1, 1, 10, 100, 1000],\n",
        "              'gamma': [1, 0.1, 0.01, 0.001, 0.0001],\n",
        "              'kernel': ['rbf']}\n",
        " \n",
        "grid = GridSearchCV(SVC(), param_grid, refit = True, verbose = 3)\n",
        " \n",
        "# fitting the model for grid search\n",
        "grid.fit(X_train, y_train)"
      ],
      "execution_count": null,
      "outputs": [
        {
          "output_type": "stream",
          "name": "stdout",
          "text": [
            "Fitting 5 folds for each of 25 candidates, totalling 125 fits\n",
            "[CV 1/5] END ........C=0.1, gamma=1, kernel=rbf;, score=0.846 total time=   1.5s\n",
            "[CV 2/5] END ........C=0.1, gamma=1, kernel=rbf;, score=0.846 total time=   1.5s\n",
            "[CV 3/5] END ........C=0.1, gamma=1, kernel=rbf;, score=0.846 total time=   1.5s\n",
            "[CV 4/5] END ........C=0.1, gamma=1, kernel=rbf;, score=0.846 total time=   1.5s\n",
            "[CV 5/5] END ........C=0.1, gamma=1, kernel=rbf;, score=0.846 total time=   1.5s\n",
            "[CV 1/5] END ......C=0.1, gamma=0.1, kernel=rbf;, score=0.846 total time=   1.1s\n",
            "[CV 2/5] END ......C=0.1, gamma=0.1, kernel=rbf;, score=0.846 total time=   1.0s\n",
            "[CV 3/5] END ......C=0.1, gamma=0.1, kernel=rbf;, score=0.846 total time=   1.1s\n",
            "[CV 4/5] END ......C=0.1, gamma=0.1, kernel=rbf;, score=0.846 total time=   1.0s\n",
            "[CV 5/5] END ......C=0.1, gamma=0.1, kernel=rbf;, score=0.846 total time=   1.0s\n",
            "[CV 1/5] END .....C=0.1, gamma=0.01, kernel=rbf;, score=0.846 total time=   0.8s\n",
            "[CV 2/5] END .....C=0.1, gamma=0.01, kernel=rbf;, score=0.846 total time=   0.8s\n",
            "[CV 3/5] END .....C=0.1, gamma=0.01, kernel=rbf;, score=0.846 total time=   0.8s\n",
            "[CV 4/5] END .....C=0.1, gamma=0.01, kernel=rbf;, score=0.846 total time=   0.8s\n",
            "[CV 5/5] END .....C=0.1, gamma=0.01, kernel=rbf;, score=0.846 total time=   0.8s\n",
            "[CV 1/5] END ....C=0.1, gamma=0.001, kernel=rbf;, score=0.846 total time=   0.8s\n",
            "[CV 2/5] END ....C=0.1, gamma=0.001, kernel=rbf;, score=0.846 total time=   0.8s\n",
            "[CV 3/5] END ....C=0.1, gamma=0.001, kernel=rbf;, score=0.846 total time=   0.8s\n",
            "[CV 4/5] END ....C=0.1, gamma=0.001, kernel=rbf;, score=0.846 total time=   0.8s\n",
            "[CV 5/5] END ....C=0.1, gamma=0.001, kernel=rbf;, score=0.846 total time=   0.8s\n",
            "[CV 1/5] END ...C=0.1, gamma=0.0001, kernel=rbf;, score=0.846 total time=   0.8s\n",
            "[CV 2/5] END ...C=0.1, gamma=0.0001, kernel=rbf;, score=0.846 total time=   0.8s\n",
            "[CV 3/5] END ...C=0.1, gamma=0.0001, kernel=rbf;, score=0.846 total time=   0.8s\n",
            "[CV 4/5] END ...C=0.1, gamma=0.0001, kernel=rbf;, score=0.846 total time=   0.8s\n",
            "[CV 5/5] END ...C=0.1, gamma=0.0001, kernel=rbf;, score=0.846 total time=   0.8s\n",
            "[CV 1/5] END ..........C=1, gamma=1, kernel=rbf;, score=0.846 total time=   1.8s\n",
            "[CV 2/5] END ..........C=1, gamma=1, kernel=rbf;, score=0.843 total time=   1.8s\n",
            "[CV 3/5] END ..........C=1, gamma=1, kernel=rbf;, score=0.843 total time=   1.8s\n",
            "[CV 4/5] END ..........C=1, gamma=1, kernel=rbf;, score=0.845 total time=   1.8s\n",
            "[CV 5/5] END ..........C=1, gamma=1, kernel=rbf;, score=0.843 total time=   1.8s\n",
            "[CV 1/5] END ........C=1, gamma=0.1, kernel=rbf;, score=0.846 total time=   1.6s\n",
            "[CV 2/5] END ........C=1, gamma=0.1, kernel=rbf;, score=0.846 total time=   1.6s\n",
            "[CV 3/5] END ........C=1, gamma=0.1, kernel=rbf;, score=0.846 total time=   1.6s\n",
            "[CV 4/5] END ........C=1, gamma=0.1, kernel=rbf;, score=0.846 total time=   1.5s\n",
            "[CV 5/5] END ........C=1, gamma=0.1, kernel=rbf;, score=0.846 total time=   1.7s\n",
            "[CV 1/5] END .......C=1, gamma=0.01, kernel=rbf;, score=0.846 total time=   0.9s\n",
            "[CV 2/5] END .......C=1, gamma=0.01, kernel=rbf;, score=0.846 total time=   1.0s\n",
            "[CV 3/5] END .......C=1, gamma=0.01, kernel=rbf;, score=0.846 total time=   1.0s\n",
            "[CV 4/5] END .......C=1, gamma=0.01, kernel=rbf;, score=0.846 total time=   0.9s\n",
            "[CV 5/5] END .......C=1, gamma=0.01, kernel=rbf;, score=0.846 total time=   0.9s\n",
            "[CV 1/5] END ......C=1, gamma=0.001, kernel=rbf;, score=0.846 total time=   0.9s\n",
            "[CV 2/5] END ......C=1, gamma=0.001, kernel=rbf;, score=0.846 total time=   0.9s\n",
            "[CV 3/5] END ......C=1, gamma=0.001, kernel=rbf;, score=0.846 total time=   0.9s\n",
            "[CV 4/5] END ......C=1, gamma=0.001, kernel=rbf;, score=0.846 total time=   0.9s\n",
            "[CV 5/5] END ......C=1, gamma=0.001, kernel=rbf;, score=0.846 total time=   0.9s\n",
            "[CV 1/5] END .....C=1, gamma=0.0001, kernel=rbf;, score=0.846 total time=   0.8s\n",
            "[CV 2/5] END .....C=1, gamma=0.0001, kernel=rbf;, score=0.846 total time=   0.8s\n",
            "[CV 3/5] END .....C=1, gamma=0.0001, kernel=rbf;, score=0.846 total time=   0.8s\n",
            "[CV 4/5] END .....C=1, gamma=0.0001, kernel=rbf;, score=0.846 total time=   0.8s\n",
            "[CV 5/5] END .....C=1, gamma=0.0001, kernel=rbf;, score=0.846 total time=   0.8s\n",
            "[CV 1/5] END .........C=10, gamma=1, kernel=rbf;, score=0.823 total time=   2.2s\n",
            "[CV 2/5] END .........C=10, gamma=1, kernel=rbf;, score=0.825 total time=   2.1s\n",
            "[CV 3/5] END .........C=10, gamma=1, kernel=rbf;, score=0.817 total time=   2.1s\n",
            "[CV 4/5] END .........C=10, gamma=1, kernel=rbf;, score=0.825 total time=   2.1s\n",
            "[CV 5/5] END .........C=10, gamma=1, kernel=rbf;, score=0.823 total time=   2.2s\n",
            "[CV 1/5] END .......C=10, gamma=0.1, kernel=rbf;, score=0.846 total time=   2.8s\n",
            "[CV 2/5] END .......C=10, gamma=0.1, kernel=rbf;, score=0.846 total time=   2.6s\n",
            "[CV 3/5] END .......C=10, gamma=0.1, kernel=rbf;, score=0.846 total time=   2.5s\n",
            "[CV 4/5] END .......C=10, gamma=0.1, kernel=rbf;, score=0.846 total time=   2.8s\n",
            "[CV 5/5] END .......C=10, gamma=0.1, kernel=rbf;, score=0.846 total time=   2.8s\n",
            "[CV 1/5] END ......C=10, gamma=0.01, kernel=rbf;, score=0.846 total time=   1.9s\n",
            "[CV 2/5] END ......C=10, gamma=0.01, kernel=rbf;, score=0.846 total time=   2.0s\n",
            "[CV 3/5] END ......C=10, gamma=0.01, kernel=rbf;, score=0.846 total time=   2.1s\n",
            "[CV 4/5] END ......C=10, gamma=0.01, kernel=rbf;, score=0.846 total time=   1.9s\n",
            "[CV 5/5] END ......C=10, gamma=0.01, kernel=rbf;, score=0.846 total time=   1.9s\n",
            "[CV 1/5] END .....C=10, gamma=0.001, kernel=rbf;, score=0.846 total time=   1.1s\n",
            "[CV 2/5] END .....C=10, gamma=0.001, kernel=rbf;, score=0.846 total time=   1.0s\n",
            "[CV 3/5] END .....C=10, gamma=0.001, kernel=rbf;, score=0.846 total time=   1.1s\n",
            "[CV 4/5] END .....C=10, gamma=0.001, kernel=rbf;, score=0.846 total time=   1.0s\n",
            "[CV 5/5] END .....C=10, gamma=0.001, kernel=rbf;, score=0.846 total time=   1.1s\n",
            "[CV 1/5] END ....C=10, gamma=0.0001, kernel=rbf;, score=0.846 total time=   1.1s\n",
            "[CV 2/5] END ....C=10, gamma=0.0001, kernel=rbf;, score=0.846 total time=   1.0s\n",
            "[CV 3/5] END ....C=10, gamma=0.0001, kernel=rbf;, score=0.846 total time=   1.1s\n",
            "[CV 4/5] END ....C=10, gamma=0.0001, kernel=rbf;, score=0.846 total time=   1.0s\n",
            "[CV 5/5] END ....C=10, gamma=0.0001, kernel=rbf;, score=0.846 total time=   1.0s\n",
            "[CV 1/5] END ........C=100, gamma=1, kernel=rbf;, score=0.808 total time=   3.5s\n",
            "[CV 2/5] END ........C=100, gamma=1, kernel=rbf;, score=0.800 total time=   3.8s\n",
            "[CV 3/5] END ........C=100, gamma=1, kernel=rbf;, score=0.802 total time=   3.7s\n",
            "[CV 4/5] END ........C=100, gamma=1, kernel=rbf;, score=0.812 total time=   4.0s\n",
            "[CV 5/5] END ........C=100, gamma=1, kernel=rbf;, score=0.807 total time=   4.1s\n",
            "[CV 1/5] END ......C=100, gamma=0.1, kernel=rbf;, score=0.842 total time=   6.4s\n",
            "[CV 2/5] END ......C=100, gamma=0.1, kernel=rbf;, score=0.836 total time=   5.9s\n",
            "[CV 3/5] END ......C=100, gamma=0.1, kernel=rbf;, score=0.836 total time=   5.4s\n",
            "[CV 4/5] END ......C=100, gamma=0.1, kernel=rbf;, score=0.839 total time=   5.5s\n",
            "[CV 5/5] END ......C=100, gamma=0.1, kernel=rbf;, score=0.832 total time=   6.3s\n",
            "[CV 1/5] END .....C=100, gamma=0.01, kernel=rbf;, score=0.846 total time=  11.2s\n",
            "[CV 2/5] END .....C=100, gamma=0.01, kernel=rbf;, score=0.846 total time=   9.5s\n",
            "[CV 3/5] END .....C=100, gamma=0.01, kernel=rbf;, score=0.846 total time=  10.5s\n",
            "[CV 4/5] END .....C=100, gamma=0.01, kernel=rbf;, score=0.846 total time=   9.4s\n",
            "[CV 5/5] END .....C=100, gamma=0.01, kernel=rbf;, score=0.846 total time=  12.1s\n",
            "[CV 1/5] END ....C=100, gamma=0.001, kernel=rbf;, score=0.846 total time=   2.2s\n",
            "[CV 2/5] END ....C=100, gamma=0.001, kernel=rbf;, score=0.846 total time=   1.9s\n",
            "[CV 3/5] END ....C=100, gamma=0.001, kernel=rbf;, score=0.846 total time=   2.1s\n",
            "[CV 4/5] END ....C=100, gamma=0.001, kernel=rbf;, score=0.846 total time=   2.1s\n",
            "[CV 5/5] END ....C=100, gamma=0.001, kernel=rbf;, score=0.846 total time=   1.8s\n",
            "[CV 1/5] END ...C=100, gamma=0.0001, kernel=rbf;, score=0.846 total time=   1.5s\n",
            "[CV 2/5] END ...C=100, gamma=0.0001, kernel=rbf;, score=0.846 total time=   1.4s\n",
            "[CV 3/5] END ...C=100, gamma=0.0001, kernel=rbf;, score=0.846 total time=   1.4s\n",
            "[CV 4/5] END ...C=100, gamma=0.0001, kernel=rbf;, score=0.846 total time=   1.5s\n",
            "[CV 5/5] END ...C=100, gamma=0.0001, kernel=rbf;, score=0.846 total time=   1.4s\n",
            "[CV 1/5] END .......C=1000, gamma=1, kernel=rbf;, score=0.803 total time=  13.1s\n",
            "[CV 2/5] END .......C=1000, gamma=1, kernel=rbf;, score=0.786 total time=  11.2s\n",
            "[CV 3/5] END .......C=1000, gamma=1, kernel=rbf;, score=0.784 total time=  18.0s\n",
            "[CV 4/5] END .......C=1000, gamma=1, kernel=rbf;, score=0.806 total time=  13.0s\n",
            "[CV 5/5] END .......C=1000, gamma=1, kernel=rbf;, score=0.786 total time=  16.4s\n",
            "[CV 1/5] END .....C=1000, gamma=0.1, kernel=rbf;, score=0.834 total time=  19.9s\n",
            "[CV 2/5] END .....C=1000, gamma=0.1, kernel=rbf;, score=0.821 total time=  21.8s\n",
            "[CV 3/5] END .....C=1000, gamma=0.1, kernel=rbf;, score=0.830 total time=  24.6s\n",
            "[CV 4/5] END .....C=1000, gamma=0.1, kernel=rbf;, score=0.832 total time=  25.3s\n",
            "[CV 5/5] END .....C=1000, gamma=0.1, kernel=rbf;, score=0.824 total time=  24.4s\n",
            "[CV 1/5] END ....C=1000, gamma=0.01, kernel=rbf;, score=0.846 total time=  53.6s\n",
            "[CV 2/5] END ....C=1000, gamma=0.01, kernel=rbf;, score=0.846 total time=  37.5s\n",
            "[CV 3/5] END ....C=1000, gamma=0.01, kernel=rbf;, score=0.846 total time=  39.3s\n",
            "[CV 4/5] END ....C=1000, gamma=0.01, kernel=rbf;, score=0.846 total time=  43.3s\n",
            "[CV 5/5] END ....C=1000, gamma=0.01, kernel=rbf;, score=0.846 total time=  46.7s\n",
            "[CV 1/5] END ...C=1000, gamma=0.001, kernel=rbf;, score=0.846 total time=  18.8s\n",
            "[CV 2/5] END ...C=1000, gamma=0.001, kernel=rbf;, score=0.846 total time=  17.1s\n",
            "[CV 3/5] END ...C=1000, gamma=0.001, kernel=rbf;, score=0.846 total time=  17.6s\n",
            "[CV 4/5] END ...C=1000, gamma=0.001, kernel=rbf;, score=0.846 total time=  15.5s\n",
            "[CV 5/5] END ...C=1000, gamma=0.001, kernel=rbf;, score=0.846 total time=  18.8s\n",
            "[CV 1/5] END ..C=1000, gamma=0.0001, kernel=rbf;, score=0.846 total time=   3.4s\n",
            "[CV 2/5] END ..C=1000, gamma=0.0001, kernel=rbf;, score=0.846 total time=   3.5s\n",
            "[CV 3/5] END ..C=1000, gamma=0.0001, kernel=rbf;, score=0.846 total time=   3.8s\n",
            "[CV 4/5] END ..C=1000, gamma=0.0001, kernel=rbf;, score=0.846 total time=   3.5s\n",
            "[CV 5/5] END ..C=1000, gamma=0.0001, kernel=rbf;, score=0.846 total time=   3.7s\n"
          ]
        },
        {
          "output_type": "execute_result",
          "data": {
            "text/plain": [
              "GridSearchCV(estimator=SVC(),\n",
              "             param_grid={'C': [0.1, 1, 10, 100, 1000],\n",
              "                         'gamma': [1, 0.1, 0.01, 0.001, 0.0001],\n",
              "                         'kernel': ['rbf']},\n",
              "             verbose=3)"
            ]
          },
          "metadata": {},
          "execution_count": 59
        }
      ]
    },
    {
      "cell_type": "code",
      "metadata": {
        "colab": {
          "base_uri": "https://localhost:8080/"
        },
        "id": "hleEuliiqQPv",
        "outputId": "9646eb4c-4072-428b-9f14-40a31f194bc9"
      },
      "source": [
        "# print best parameter after tuning\n",
        "print(grid.best_params_)\n",
        " \n",
        "# print how our model looks after hyper-parameter tuning\n",
        "print(grid.best_estimator_)"
      ],
      "execution_count": null,
      "outputs": [
        {
          "output_type": "stream",
          "name": "stdout",
          "text": [
            "{'C': 0.1, 'gamma': 1, 'kernel': 'rbf'}\n",
            "SVC(C=0.1, gamma=1)\n"
          ]
        }
      ]
    },
    {
      "cell_type": "code",
      "metadata": {
        "colab": {
          "base_uri": "https://localhost:8080/"
        },
        "id": "tC-lHdKjqQaA",
        "outputId": "66e823f4-a5d3-4414-97ae-3e8818b25e1d"
      },
      "source": [
        "from sklearn.metrics import classification_report\n",
        "grid_predictions = grid.predict(X_val)\n",
        " \n",
        "# print classification report\n",
        "print(classification_report(y_test, grid_predictions))"
      ],
      "execution_count": null,
      "outputs": [
        {
          "output_type": "stream",
          "name": "stdout",
          "text": [
            "              precision    recall  f1-score   support\n",
            "\n",
            "           0       0.85      1.00      0.92      2671\n",
            "           1       0.00      0.00      0.00       484\n",
            "\n",
            "    accuracy                           0.85      3155\n",
            "   macro avg       0.42      0.50      0.46      3155\n",
            "weighted avg       0.72      0.85      0.78      3155\n",
            "\n"
          ]
        },
        {
          "output_type": "stream",
          "name": "stderr",
          "text": [
            "/usr/local/lib/python3.7/dist-packages/sklearn/metrics/_classification.py:1308: UndefinedMetricWarning: Precision and F-score are ill-defined and being set to 0.0 in labels with no predicted samples. Use `zero_division` parameter to control this behavior.\n",
            "  _warn_prf(average, modifier, msg_start, len(result))\n",
            "/usr/local/lib/python3.7/dist-packages/sklearn/metrics/_classification.py:1308: UndefinedMetricWarning: Precision and F-score are ill-defined and being set to 0.0 in labels with no predicted samples. Use `zero_division` parameter to control this behavior.\n",
            "  _warn_prf(average, modifier, msg_start, len(result))\n",
            "/usr/local/lib/python3.7/dist-packages/sklearn/metrics/_classification.py:1308: UndefinedMetricWarning: Precision and F-score are ill-defined and being set to 0.0 in labels with no predicted samples. Use `zero_division` parameter to control this behavior.\n",
            "  _warn_prf(average, modifier, msg_start, len(result))\n"
          ]
        }
      ]
    },
    {
      "cell_type": "code",
      "metadata": {
        "id": "ckvm9bFqupfJ"
      },
      "source": [
        "model_svc=SVC(C= 0.1, gamma= 1, kernel='rbf')"
      ],
      "execution_count": null,
      "outputs": []
    },
    {
      "cell_type": "code",
      "metadata": {
        "id": "29rQyW4Uu_4E"
      },
      "source": [
        "model_svc.fit(X_train,y_train)\n",
        "y_pred = model_svc.predict(X_val)"
      ],
      "execution_count": null,
      "outputs": []
    },
    {
      "cell_type": "code",
      "metadata": {
        "id": "DfFy2m0VvOWr"
      },
      "source": [
        "\n",
        "cm = confusion_matrix(y_test,y_pred)\n",
        "accuracy = round(100*np.trace(cm)/np.sum(cm),1)\n",
        "f1score = f1_score(y_test, y_pred, average='micro')"
      ],
      "execution_count": null,
      "outputs": []
    },
    {
      "cell_type": "code",
      "metadata": {
        "colab": {
          "base_uri": "https://localhost:8080/"
        },
        "id": "o6HwBH1evXwQ",
        "outputId": "9c7fa4bc-213e-4612-9954-50c73faee02b"
      },
      "source": [
        "print(cm)\n",
        "print(accuracy)\n",
        "print(f1score)"
      ],
      "execution_count": null,
      "outputs": [
        {
          "output_type": "stream",
          "name": "stdout",
          "text": [
            "[[2671    0]\n",
            " [ 484    0]]\n",
            "84.7\n",
            "0.8465927099841521\n"
          ]
        }
      ]
    },
    {
      "cell_type": "code",
      "metadata": {
        "id": "aK5F5ujwqQkj"
      },
      "source": [
        "final_pred_test = grid.predict(test)\n",
        "test_pred_svm= pd.DataFrame(final_pred_test, columns=['Target'])"
      ],
      "execution_count": null,
      "outputs": []
    },
    {
      "cell_type": "code",
      "metadata": {
        "colab": {
          "base_uri": "https://localhost:8080/"
        },
        "id": "_cISoSKzqQyT",
        "outputId": "911a44ad-5de5-496f-8635-d7cc0439b762"
      },
      "source": [
        "test_pred_svm['Target'].value_counts()"
      ],
      "execution_count": null,
      "outputs": [
        {
          "output_type": "execute_result",
          "data": {
            "text/plain": [
              "0    8588\n",
              "Name: Target, dtype: int64"
            ]
          },
          "metadata": {},
          "execution_count": 67
        }
      ]
    },
    {
      "cell_type": "markdown",
      "metadata": {
        "id": "suWWU-fww-95"
      },
      "source": [
        "- model become biased"
      ]
    },
    {
      "cell_type": "code",
      "metadata": {
        "id": "FF-yw6-0qQ-v"
      },
      "source": [
        "model_svc = SVC()"
      ],
      "execution_count": null,
      "outputs": []
    },
    {
      "cell_type": "code",
      "metadata": {
        "id": "k_hCWqbrqRHY"
      },
      "source": [
        "model_svc.fit(X_train,y_train)\n",
        "model_svc_pred = model_svc.predict(X_val)"
      ],
      "execution_count": null,
      "outputs": []
    },
    {
      "cell_type": "code",
      "metadata": {
        "id": "GeVUV95dqRO_"
      },
      "source": [
        "cm = confusion_matrix(y_test,model_svc_pred)\n",
        "accuracy = round(100*np.trace(cm)/np.sum(cm),1)\n",
        "f1score = f1_score(y_test, model_svc_pred, average='micro')"
      ],
      "execution_count": null,
      "outputs": []
    },
    {
      "cell_type": "code",
      "metadata": {
        "colab": {
          "base_uri": "https://localhost:8080/"
        },
        "id": "HZ8YmztEqRXw",
        "outputId": "0f9aba54-d700-41a4-bff9-e213de5866b5"
      },
      "source": [
        "print(cm)\n",
        "print(accuracy)\n",
        "print(f1score)"
      ],
      "execution_count": null,
      "outputs": [
        {
          "output_type": "stream",
          "name": "stdout",
          "text": [
            "[[2671    0]\n",
            " [ 484    0]]\n",
            "84.7\n",
            "0.8465927099841521\n"
          ]
        }
      ]
    },
    {
      "cell_type": "code",
      "metadata": {
        "id": "gziMFuW_qRr2"
      },
      "source": [
        "test_pred_svc = model_svc.predict(test)\n",
        "svc_test_pred= pd.DataFrame(test_pred_svc, columns=['Target'])\n"
      ],
      "execution_count": null,
      "outputs": []
    },
    {
      "cell_type": "code",
      "metadata": {
        "colab": {
          "base_uri": "https://localhost:8080/"
        },
        "id": "IPJYnukYqR0t",
        "outputId": "52ec1c92-c6cb-4ee3-97b1-f008e28ba84b"
      },
      "source": [
        "svc_test_pred['Target'].value_counts()"
      ],
      "execution_count": null,
      "outputs": [
        {
          "output_type": "execute_result",
          "data": {
            "text/plain": [
              "0    8588\n",
              "Name: Target, dtype: int64"
            ]
          },
          "metadata": {},
          "execution_count": 80
        }
      ]
    },
    {
      "cell_type": "markdown",
      "metadata": {
        "id": "wMyBTosCk6YN"
      },
      "source": [
        "## Final Model --- XGBoost"
      ]
    },
    {
      "cell_type": "code",
      "metadata": {
        "id": "QCTTlFj4Nf2D"
      },
      "source": [
        "XGB = XGBClassifier(n_estimators=500)\n",
        "XGB.fit(X_train,y_train)\n",
        "y_pred = XGB.predict(X_val)"
      ],
      "execution_count": null,
      "outputs": []
    },
    {
      "cell_type": "code",
      "metadata": {
        "id": "LnUkOJHUNgAd"
      },
      "source": [
        "\n",
        "cm = confusion_matrix(y_test,y_pred)\n",
        "accuracy = round(100*np.trace(cm)/np.sum(cm),1)\n",
        "f1score = f1_score(y_test, y_pred, average='micro')"
      ],
      "execution_count": null,
      "outputs": []
    },
    {
      "cell_type": "code",
      "metadata": {
        "id": "IsOqFKLaNgLo"
      },
      "source": [
        "final_predictions = XGB.predict(test)\n",
        "test_pred= pd.DataFrame(final_predictions, columns=['Target'])"
      ],
      "execution_count": null,
      "outputs": []
    },
    {
      "cell_type": "code",
      "metadata": {
        "colab": {
          "base_uri": "https://localhost:8080/",
          "height": 204
        },
        "id": "drZchFFBNghR",
        "outputId": "9f8e6f67-7206-4656-a1b7-922515764513"
      },
      "source": [
        "test_pred.head()"
      ],
      "execution_count": null,
      "outputs": [
        {
          "output_type": "execute_result",
          "data": {
            "text/html": [
              "<div>\n",
              "<style scoped>\n",
              "    .dataframe tbody tr th:only-of-type {\n",
              "        vertical-align: middle;\n",
              "    }\n",
              "\n",
              "    .dataframe tbody tr th {\n",
              "        vertical-align: top;\n",
              "    }\n",
              "\n",
              "    .dataframe thead th {\n",
              "        text-align: right;\n",
              "    }\n",
              "</style>\n",
              "<table border=\"1\" class=\"dataframe\">\n",
              "  <thead>\n",
              "    <tr style=\"text-align: right;\">\n",
              "      <th></th>\n",
              "      <th>Target</th>\n",
              "    </tr>\n",
              "  </thead>\n",
              "  <tbody>\n",
              "    <tr>\n",
              "      <th>0</th>\n",
              "      <td>0</td>\n",
              "    </tr>\n",
              "    <tr>\n",
              "      <th>1</th>\n",
              "      <td>0</td>\n",
              "    </tr>\n",
              "    <tr>\n",
              "      <th>2</th>\n",
              "      <td>0</td>\n",
              "    </tr>\n",
              "    <tr>\n",
              "      <th>3</th>\n",
              "      <td>0</td>\n",
              "    </tr>\n",
              "    <tr>\n",
              "      <th>4</th>\n",
              "      <td>0</td>\n",
              "    </tr>\n",
              "  </tbody>\n",
              "</table>\n",
              "</div>"
            ],
            "text/plain": [
              "   Target\n",
              "0       0\n",
              "1       0\n",
              "2       0\n",
              "3       0\n",
              "4       0"
            ]
          },
          "metadata": {},
          "execution_count": 84
        }
      ]
    },
    {
      "cell_type": "code",
      "metadata": {
        "colab": {
          "base_uri": "https://localhost:8080/"
        },
        "id": "sx8M9gL3NgwJ",
        "outputId": "c03a5b86-28d0-42c6-f5b9-df493be959f7"
      },
      "source": [
        "test_pred['Target'].value_counts()"
      ],
      "execution_count": null,
      "outputs": [
        {
          "output_type": "execute_result",
          "data": {
            "text/plain": [
              "0    7279\n",
              "1    1309\n",
              "Name: Target, dtype: int64"
            ]
          },
          "metadata": {},
          "execution_count": 85
        }
      ]
    },
    {
      "cell_type": "code",
      "metadata": {
        "colab": {
          "base_uri": "https://localhost:8080/"
        },
        "id": "S9VU74RXQCOe",
        "outputId": "dfd39c08-79d5-49ee-8f03-2431bdf35ce9"
      },
      "source": [
        "test_pred.shape"
      ],
      "execution_count": null,
      "outputs": [
        {
          "output_type": "execute_result",
          "data": {
            "text/plain": [
              "(8588, 1)"
            ]
          },
          "metadata": {},
          "execution_count": 273
        }
      ]
    },
    {
      "cell_type": "code",
      "metadata": {
        "colab": {
          "base_uri": "https://localhost:8080/",
          "height": 306
        },
        "id": "QDyqpWMcQCZL",
        "outputId": "53344661-a61d-478d-c320-0b5b781f0e0e"
      },
      "source": [
        "test_data.head()"
      ],
      "execution_count": null,
      "outputs": [
        {
          "output_type": "execute_result",
          "data": {
            "text/html": [
              "<div>\n",
              "<style scoped>\n",
              "    .dataframe tbody tr th:only-of-type {\n",
              "        vertical-align: middle;\n",
              "    }\n",
              "\n",
              "    .dataframe tbody tr th {\n",
              "        vertical-align: top;\n",
              "    }\n",
              "\n",
              "    .dataframe thead th {\n",
              "        text-align: right;\n",
              "    }\n",
              "</style>\n",
              "<table border=\"1\" class=\"dataframe\">\n",
              "  <thead>\n",
              "    <tr style=\"text-align: right;\">\n",
              "      <th></th>\n",
              "      <th>Emp_ID</th>\n",
              "      <th>MMM-YY</th>\n",
              "      <th>Age</th>\n",
              "      <th>Gender</th>\n",
              "      <th>City</th>\n",
              "      <th>Education_Level</th>\n",
              "      <th>Salary</th>\n",
              "      <th>Dateofjoining</th>\n",
              "      <th>LastWorkingDate</th>\n",
              "      <th>Joining Designation</th>\n",
              "      <th>Designation</th>\n",
              "      <th>Total Business Value</th>\n",
              "      <th>Quarterly Rating</th>\n",
              "    </tr>\n",
              "  </thead>\n",
              "  <tbody>\n",
              "    <tr>\n",
              "      <th>0</th>\n",
              "      <td>394</td>\n",
              "      <td>2016-01-01</td>\n",
              "      <td>32</td>\n",
              "      <td>Female</td>\n",
              "      <td>C20</td>\n",
              "      <td>Master</td>\n",
              "      <td>97722</td>\n",
              "      <td>2011-06-06</td>\n",
              "      <td>NaN</td>\n",
              "      <td>2</td>\n",
              "      <td>4</td>\n",
              "      <td>189360</td>\n",
              "      <td>1</td>\n",
              "    </tr>\n",
              "    <tr>\n",
              "      <th>1</th>\n",
              "      <td>394</td>\n",
              "      <td>2016-02-01</td>\n",
              "      <td>32</td>\n",
              "      <td>Female</td>\n",
              "      <td>C20</td>\n",
              "      <td>Master</td>\n",
              "      <td>97722</td>\n",
              "      <td>2011-06-06</td>\n",
              "      <td>NaN</td>\n",
              "      <td>2</td>\n",
              "      <td>4</td>\n",
              "      <td>390810</td>\n",
              "      <td>1</td>\n",
              "    </tr>\n",
              "    <tr>\n",
              "      <th>2</th>\n",
              "      <td>394</td>\n",
              "      <td>2016-03-01</td>\n",
              "      <td>32</td>\n",
              "      <td>Female</td>\n",
              "      <td>C20</td>\n",
              "      <td>Master</td>\n",
              "      <td>97722</td>\n",
              "      <td>2011-06-06</td>\n",
              "      <td>NaN</td>\n",
              "      <td>2</td>\n",
              "      <td>4</td>\n",
              "      <td>1846360</td>\n",
              "      <td>1</td>\n",
              "    </tr>\n",
              "    <tr>\n",
              "      <th>3</th>\n",
              "      <td>394</td>\n",
              "      <td>2016-04-01</td>\n",
              "      <td>33</td>\n",
              "      <td>Female</td>\n",
              "      <td>C20</td>\n",
              "      <td>Master</td>\n",
              "      <td>97722</td>\n",
              "      <td>2011-06-06</td>\n",
              "      <td>NaN</td>\n",
              "      <td>2</td>\n",
              "      <td>4</td>\n",
              "      <td>194010</td>\n",
              "      <td>2</td>\n",
              "    </tr>\n",
              "    <tr>\n",
              "      <th>4</th>\n",
              "      <td>394</td>\n",
              "      <td>2016-05-01</td>\n",
              "      <td>33</td>\n",
              "      <td>Female</td>\n",
              "      <td>C20</td>\n",
              "      <td>Master</td>\n",
              "      <td>97722</td>\n",
              "      <td>2011-06-06</td>\n",
              "      <td>NaN</td>\n",
              "      <td>2</td>\n",
              "      <td>4</td>\n",
              "      <td>371160</td>\n",
              "      <td>2</td>\n",
              "    </tr>\n",
              "  </tbody>\n",
              "</table>\n",
              "</div>"
            ],
            "text/plain": [
              "   Emp_ID      MMM-YY  Age  ... Designation Total Business Value Quarterly Rating\n",
              "0     394  2016-01-01   32  ...           4               189360                1\n",
              "1     394  2016-02-01   32  ...           4               390810                1\n",
              "2     394  2016-03-01   32  ...           4              1846360                1\n",
              "3     394  2016-04-01   33  ...           4               194010                2\n",
              "4     394  2016-05-01   33  ...           4               371160                2\n",
              "\n",
              "[5 rows x 13 columns]"
            ]
          },
          "metadata": {},
          "execution_count": 274
        }
      ]
    },
    {
      "cell_type": "code",
      "metadata": {
        "colab": {
          "base_uri": "https://localhost:8080/"
        },
        "id": "bepNRjIuQpkh",
        "outputId": "83667c40-d859-4eba-e6c6-5a09783ccec9"
      },
      "source": [
        "test_data.shape"
      ],
      "execution_count": null,
      "outputs": [
        {
          "output_type": "execute_result",
          "data": {
            "text/plain": [
              "(8588, 13)"
            ]
          },
          "metadata": {},
          "execution_count": 275
        }
      ]
    },
    {
      "cell_type": "code",
      "metadata": {
        "id": "vffHoH6JQCjP"
      },
      "source": [
        "test_pred['Emp_ID'] = test_data['Emp_ID']"
      ],
      "execution_count": null,
      "outputs": []
    },
    {
      "cell_type": "code",
      "metadata": {
        "colab": {
          "base_uri": "https://localhost:8080/",
          "height": 204
        },
        "id": "H3wzwySxQCsc",
        "outputId": "c48d561c-f8aa-4a7d-eaa4-b8c0ab843082"
      },
      "source": [
        "test_pred.head()"
      ],
      "execution_count": null,
      "outputs": [
        {
          "output_type": "execute_result",
          "data": {
            "text/html": [
              "<div>\n",
              "<style scoped>\n",
              "    .dataframe tbody tr th:only-of-type {\n",
              "        vertical-align: middle;\n",
              "    }\n",
              "\n",
              "    .dataframe tbody tr th {\n",
              "        vertical-align: top;\n",
              "    }\n",
              "\n",
              "    .dataframe thead th {\n",
              "        text-align: right;\n",
              "    }\n",
              "</style>\n",
              "<table border=\"1\" class=\"dataframe\">\n",
              "  <thead>\n",
              "    <tr style=\"text-align: right;\">\n",
              "      <th></th>\n",
              "      <th>Target</th>\n",
              "      <th>Emp_ID</th>\n",
              "    </tr>\n",
              "  </thead>\n",
              "  <tbody>\n",
              "    <tr>\n",
              "      <th>0</th>\n",
              "      <td>0</td>\n",
              "      <td>394</td>\n",
              "    </tr>\n",
              "    <tr>\n",
              "      <th>1</th>\n",
              "      <td>0</td>\n",
              "      <td>394</td>\n",
              "    </tr>\n",
              "    <tr>\n",
              "      <th>2</th>\n",
              "      <td>0</td>\n",
              "      <td>394</td>\n",
              "    </tr>\n",
              "    <tr>\n",
              "      <th>3</th>\n",
              "      <td>0</td>\n",
              "      <td>394</td>\n",
              "    </tr>\n",
              "    <tr>\n",
              "      <th>4</th>\n",
              "      <td>0</td>\n",
              "      <td>394</td>\n",
              "    </tr>\n",
              "  </tbody>\n",
              "</table>\n",
              "</div>"
            ],
            "text/plain": [
              "   Target  Emp_ID\n",
              "0       0     394\n",
              "1       0     394\n",
              "2       0     394\n",
              "3       0     394\n",
              "4       0     394"
            ]
          },
          "metadata": {},
          "execution_count": 95
        }
      ]
    },
    {
      "cell_type": "code",
      "metadata": {
        "colab": {
          "base_uri": "https://localhost:8080/"
        },
        "id": "bfTkGL7kQC6R",
        "outputId": "51bc3a46-a395-4e62-89da-9e76b3fdc1b9"
      },
      "source": [
        "test_pred.shape"
      ],
      "execution_count": null,
      "outputs": [
        {
          "output_type": "execute_result",
          "data": {
            "text/plain": [
              "(8588, 2)"
            ]
          },
          "metadata": {},
          "execution_count": 96
        }
      ]
    },
    {
      "cell_type": "code",
      "metadata": {
        "id": "iqUvWEOqQDE1"
      },
      "source": [
        "test_pred = test_pred[['Emp_ID','Target']]\n"
      ],
      "execution_count": null,
      "outputs": []
    },
    {
      "cell_type": "code",
      "metadata": {
        "colab": {
          "base_uri": "https://localhost:8080/"
        },
        "id": "Ml_0BIfxQDOA",
        "outputId": "81e70a25-7c00-4d88-a81d-eef1a6bb26f3"
      },
      "source": [
        "test_pred = test_pred.groupby(['Emp_ID'], as_index=False).agg({\"Target\":\"last\"})\n",
        "test_pred.shape"
      ],
      "execution_count": null,
      "outputs": [
        {
          "output_type": "execute_result",
          "data": {
            "text/plain": [
              "(741, 2)"
            ]
          },
          "metadata": {},
          "execution_count": 98
        }
      ]
    },
    {
      "cell_type": "code",
      "metadata": {
        "id": "ot6A61pKQDtF"
      },
      "source": [
        "test_pred.to_csv('my_submission_xgb.csv', index=False)"
      ],
      "execution_count": null,
      "outputs": []
    },
    {
      "cell_type": "markdown",
      "metadata": {
        "id": "pezMCixL1VEW"
      },
      "source": [
        "#Conclusion\n",
        "\n",
        "XGB is the only model so far with good accuracy and no biasness when it comes to predict test set.\n"
      ]
    },
    {
      "cell_type": "code",
      "metadata": {
        "id": "KEKOfQdk0h7i"
      },
      "source": [
        ""
      ],
      "execution_count": null,
      "outputs": []
    }
  ]
}